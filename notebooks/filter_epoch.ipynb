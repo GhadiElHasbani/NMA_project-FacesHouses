{
 "cells": [
  {
   "cell_type": "code",
   "execution_count": 1,
   "id": "d4cd2ae5-c6c1-4c40-82e4-f4fd4b0f332a",
   "metadata": {},
   "outputs": [],
   "source": [
    "import mne\n",
    "import mne_bids\n",
    "import numpy as np\n",
    "import pandas as pd\n",
    "import autoreject as ar\n",
    "import os"
   ]
  },
  {
   "cell_type": "code",
   "execution_count": 2,
   "id": "95d267fe-3daa-4f6e-b713-8bcdff5d2b61",
   "metadata": {},
   "outputs": [],
   "source": [
    "bids_root = \"/Users/daniel/Documents/Coding_Projects/GitHub/NMA-FacesHouses/data/BIDS\"\n",
    "output_dir = \"/Users/daniel/Documents/Coding_Projects/GitHub/NMA-FacesHouses/data/output\"\n",
    "subjects_dir = \"/Users/daniel/Documents/Coding_Projects/GitHub/NMA-FacesHouses/data/fs_subjects\""
   ]
  },
  {
   "cell_type": "code",
   "execution_count": 12,
   "id": "8c749c70-cad2-4f5c-bb1c-d2f38197aefb",
   "metadata": {
    "scrolled": true,
    "tags": []
   },
   "outputs": [
    {
     "name": "stdout",
     "output_type": "stream",
     "text": [
      "Extracting parameters from /Users/daniel/Documents/Coding_Projects/GitHub/NMA-FacesHouses/data/BIDS/sub-ap/ses-01/ieeg/sub-ap_ses-01_task-clean_ieeg.vhdr...\n",
      "Setting channel info structure...\n",
      "Reading 0 ... 268399  =      0.000 ...   268.399 secs...\n",
      "Reading events from /Users/daniel/Documents/Coding_Projects/GitHub/NMA-FacesHouses/data/BIDS/sub-ap/ses-01/ieeg/sub-ap_ses-01_task-clean_events.tsv.\n",
      "Reading channel info from /Users/daniel/Documents/Coding_Projects/GitHub/NMA-FacesHouses/data/BIDS/sub-ap/ses-01/ieeg/sub-ap_ses-01_task-clean_channels.tsv.\n",
      "Reading electrode coords from /Users/daniel/Documents/Coding_Projects/GitHub/NMA-FacesHouses/data/BIDS/sub-ap/ses-01/ieeg/sub-ap_ses-01_space-ACPC_electrodes.tsv.\n",
      "Filtering raw data in 1 contiguous segment\n",
      "Setting up band-pass filter from 0.15 - 2e+02 Hz\n",
      "\n",
      "FIR filter parameters\n",
      "---------------------\n",
      "Designing a one-pass, zero-phase, non-causal bandpass filter:\n",
      "- Windowed time-domain design (firwin) method\n",
      "- Hamming window with 0.0194 passband ripple and 53 dB stopband attenuation\n",
      "- Lower passband edge: 0.15\n",
      "- Lower transition bandwidth: 0.15 Hz (-6 dB cutoff frequency: 0.07 Hz)\n",
      "- Upper passband edge: 200.00 Hz\n",
      "- Upper transition bandwidth: 50.00 Hz (-6 dB cutoff frequency: 225.00 Hz)\n",
      "- Filter length: 22001 samples (22.001 sec)\n",
      "\n"
     ]
    },
    {
     "name": "stderr",
     "output_type": "stream",
     "text": [
      "[Parallel(n_jobs=4)]: Using backend LokyBackend with 4 concurrent workers.\n",
      "[Parallel(n_jobs=4)]: Done  14 tasks      | elapsed:    1.1s\n",
      "[Parallel(n_jobs=4)]: Done  41 out of  41 | elapsed:    2.6s finished\n",
      "[Parallel(n_jobs=4)]: Using backend LokyBackend with 4 concurrent workers.\n",
      "[Parallel(n_jobs=4)]: Done  14 tasks      | elapsed:    4.4s\n",
      "[Parallel(n_jobs=4)]: Done  41 out of  41 | elapsed:   10.8s finished\n"
     ]
    },
    {
     "name": "stdout",
     "output_type": "stream",
     "text": [
      "Removed notch frequencies (Hz):\n",
      "     60.00 : 4346 windows\n",
      "    120.00 : 4346 windows\n",
      "    180.00 : 4346 windows\n",
      "ECoG channel type selected for re-referencing\n",
      "Applying average reference.\n",
      "Applying a custom ('ECoG',) reference.\n",
      "Filtering raw data in 1 contiguous segment\n",
      "Setting up band-pass filter from 1 - 1e+02 Hz\n",
      "\n",
      "FIR filter parameters\n",
      "---------------------\n",
      "Designing a one-pass, zero-phase, non-causal bandpass filter:\n",
      "- Windowed time-domain design (firwin) method\n",
      "- Hamming window with 0.0194 passband ripple and 53 dB stopband attenuation\n",
      "- Lower passband edge: 1.00\n",
      "- Lower transition bandwidth: 1.00 Hz (-6 dB cutoff frequency: 0.50 Hz)\n",
      "- Upper passband edge: 100.00 Hz\n",
      "- Upper transition bandwidth: 25.00 Hz (-6 dB cutoff frequency: 112.50 Hz)\n",
      "- Filter length: 3301 samples (3.301 sec)\n",
      "\n",
      "Used Annotations descriptions: ['face/clean', 'house/clean']\n",
      "Adding metadata with 2 columns\n",
      "300 matching events found\n",
      "No baseline correction applied\n",
      "0 projection items activated\n",
      "Using data from preloaded Raw for 300 events and 1001 original time points ...\n",
      "0 bad epochs dropped\n",
      "Not setting metadata\n",
      "300 matching events found\n",
      "No baseline correction applied\n",
      "0 projection items activated\n",
      "Using data from preloaded Raw for 300 events and 1001 original time points ...\n",
      "0 bad epochs dropped\n",
      "Estimating rejection dictionary for ecog\n",
      "{'ecog': 0.06821896859510228}\n",
      "0 bad epochs dropped\n",
      "Fitting ICA to data using 41 channels (please be patient, this may take a while)\n",
      "Selecting by explained variance: 30 components\n",
      "Computing Extended Infomax ICA\n",
      "Fitting ICA took 78.0s.\n",
      "Applying ICA to Epochs instance\n",
      "    Transforming to ICA space (30 components)\n",
      "    Zeroing out 0 ICA components\n",
      "    Projecting back using 41 PCA components\n",
      "Estimating rejection dictionary for ecog\n",
      "{'ecog': 0.07029645298695203}\n",
      "0 bad epochs dropped\n",
      "Applying baseline correction (mode: mean)\n",
      "Extracting parameters from /Users/daniel/Documents/Coding_Projects/GitHub/NMA-FacesHouses/data/BIDS/sub-ap/ses-01/ieeg/sub-ap_ses-01_task-noisy_ieeg.vhdr...\n",
      "Setting channel info structure...\n",
      "Reading 0 ... 666239  =      0.000 ...   666.239 secs...\n",
      "Reading events from /Users/daniel/Documents/Coding_Projects/GitHub/NMA-FacesHouses/data/BIDS/sub-ap/ses-01/ieeg/sub-ap_ses-01_task-noisy_events.tsv.\n",
      "Reading channel info from /Users/daniel/Documents/Coding_Projects/GitHub/NMA-FacesHouses/data/BIDS/sub-ap/ses-01/ieeg/sub-ap_ses-01_task-noisy_channels.tsv.\n",
      "Reading electrode coords from /Users/daniel/Documents/Coding_Projects/GitHub/NMA-FacesHouses/data/BIDS/sub-ap/ses-01/ieeg/sub-ap_ses-01_space-ACPC_electrodes.tsv.\n",
      "Filtering raw data in 1 contiguous segment\n",
      "Setting up band-pass filter from 0.15 - 2e+02 Hz\n",
      "\n",
      "FIR filter parameters\n",
      "---------------------\n",
      "Designing a one-pass, zero-phase, non-causal bandpass filter:\n",
      "- Windowed time-domain design (firwin) method\n",
      "- Hamming window with 0.0194 passband ripple and 53 dB stopband attenuation\n",
      "- Lower passband edge: 0.15\n",
      "- Lower transition bandwidth: 0.15 Hz (-6 dB cutoff frequency: 0.07 Hz)\n",
      "- Upper passband edge: 200.00 Hz\n",
      "- Upper transition bandwidth: 50.00 Hz (-6 dB cutoff frequency: 225.00 Hz)\n",
      "- Filter length: 22001 samples (22.001 sec)\n",
      "\n"
     ]
    },
    {
     "name": "stderr",
     "output_type": "stream",
     "text": [
      "[Parallel(n_jobs=4)]: Using backend LokyBackend with 4 concurrent workers.\n",
      "[Parallel(n_jobs=4)]: Done  24 tasks      | elapsed:    1.4s\n",
      "[Parallel(n_jobs=4)]: Done  41 out of  41 | elapsed:    2.3s finished\n",
      "[Parallel(n_jobs=4)]: Using backend LokyBackend with 4 concurrent workers.\n",
      "[Parallel(n_jobs=4)]: Done  14 tasks      | elapsed:    6.3s\n",
      "[Parallel(n_jobs=4)]: Done  41 out of  41 | elapsed:   15.6s finished\n"
     ]
    },
    {
     "name": "stdout",
     "output_type": "stream",
     "text": [
      "Removed notch frequencies (Hz):\n",
      "     60.00 : 10865 windows\n",
      "    120.00 : 10865 windows\n",
      "    180.00 : 10865 windows\n",
      "ECoG channel type selected for re-referencing\n",
      "Applying average reference.\n",
      "Applying a custom ('ECoG',) reference.\n",
      "Filtering raw data in 1 contiguous segment\n",
      "Setting up band-pass filter from 1 - 1e+02 Hz\n",
      "\n",
      "FIR filter parameters\n",
      "---------------------\n",
      "Designing a one-pass, zero-phase, non-causal bandpass filter:\n",
      "- Windowed time-domain design (firwin) method\n",
      "- Hamming window with 0.0194 passband ripple and 53 dB stopband attenuation\n",
      "- Lower passband edge: 1.00\n",
      "- Lower transition bandwidth: 1.00 Hz (-6 dB cutoff frequency: 0.50 Hz)\n",
      "- Upper passband edge: 100.00 Hz\n",
      "- Upper transition bandwidth: 25.00 Hz (-6 dB cutoff frequency: 112.50 Hz)\n",
      "- Filter length: 3301 samples (3.301 sec)\n",
      "\n",
      "Used Annotations descriptions: ['face/noisy', 'house/noisy']\n",
      "Adding metadata with 5 columns\n",
      "630 matching events found\n",
      "No baseline correction applied\n",
      "0 projection items activated\n",
      "Using data from preloaded Raw for 630 events and 1001 original time points ...\n",
      "0 bad epochs dropped\n",
      "Not setting metadata\n",
      "630 matching events found\n",
      "No baseline correction applied\n",
      "0 projection items activated\n",
      "Using data from preloaded Raw for 630 events and 1001 original time points ...\n",
      "0 bad epochs dropped\n",
      "Estimating rejection dictionary for ecog\n",
      "{'ecog': 0.06546269910615363}\n",
      "0 bad epochs dropped\n",
      "Fitting ICA to data using 41 channels (please be patient, this may take a while)\n",
      "Selecting by explained variance: 30 components\n",
      "Computing Extended Infomax ICA\n"
     ]
    }
   ],
   "source": [
    "for subject in [\"ap\", \"ca\", \"ha\", \"ja\", \"mv\", \"wc\", \"zt\"]:\n",
    "    \n",
    "    epochs_list = []\n",
    "\n",
    "    for task in [\"clean\", \"noisy\"]:\n",
    "\n",
    "        path = mne_bids.BIDSPath(root=bids_root, subject=subject, session=\"01\", task=task, datatype=\"ieeg\", suffix=\"ieeg\")\n",
    "        raw = mne_bids.read_raw_bids(path, extra_params=dict(preload=True))\n",
    "\n",
    "        metadata = pd.read_csv(os.path.join(path.directory, f\"{task}_metadata.csv\"))\n",
    "\n",
    "        montage = raw.get_montage()\n",
    "\n",
    "        # add fiducials to montage\n",
    "        montage.add_estimated_fiducials(f\"{subjects_dir}/{subject}\")\n",
    "\n",
    "        #trans = mne_bids.get_head_mri_trans(bids_path=path, fs_subject=subject,\n",
    "        #                                    fs_subjects_dir=subjects_dir)\n",
    "\n",
    "        # now with fiducials assigned, the montage will be properly converted\n",
    "        # to \"head\" which is what MNE requires internally (this is the coordinate\n",
    "        # system with the origin between LPA and RPA whereas MNI has the origin\n",
    "        # at the posterior commissure)\n",
    "        raw.set_montage(montage)\n",
    "\n",
    "        raw.filter(0.15, 200, n_jobs=-1)\n",
    "        raw.notch_filter(range(60, 200, 60), method=\"spectrum_fit\", filter_length=\"5s\", n_jobs=-1)\n",
    "        \n",
    "        raw_filt.set_eeg_reference(\"average\")\n",
    "        raw_filt = raw.copy().filter(1, 100)\n",
    "\n",
    "        events, event_id = mne.events_from_annotations(raw, event_id={\"house/noisy\": 11, \"house/clean\": 1, \"face/noisy\": 12, \"face/clean\": 2})\n",
    "\n",
    "        epochs = mne.Epochs(raw, events, event_id, metadata=metadata, baseline=None, detrend=0, tmin=-0.2, tmax=0.8, preload=True)\n",
    "\n",
    "        epochs_filt = mne.Epochs(raw_filt, events, event_id, baseline=None, detrend=0, tmin=-0.2, tmax=0.8, preload=True)\n",
    "\n",
    "        reject = ar.get_rejection_threshold(epochs_filt, ch_types=\"ecog\", verbose=True)\n",
    "        print(reject)\n",
    "        epochs_filt.drop_bad(reject=reject)\n",
    "\n",
    "        ica = mne.preprocessing.ICA(n_components=0.95, max_iter=\"auto\", method=\"infomax\", fit_params=dict(extended=True))\n",
    "        ica.fit(epochs_filt)\n",
    "        epochs_clean = ica.apply(epochs.copy())\n",
    "\n",
    "        reject = ar.get_rejection_threshold(epochs_clean, ch_types=\"ecog\", verbose=True)\n",
    "        print(reject)\n",
    "        epochs_clean.drop_bad(reject=reject)\n",
    "\n",
    "        epochs_clean.apply_baseline((None, None))\n",
    "\n",
    "        epochs_list.append(epochs_clean)\n",
    "\n",
    "    break\n",
    "    epochs = mne.concatenate_epochs(epochs_list, add_offset=100000)\n",
    "    epochs.save(f\"{output_dir}/epoched/{subject}-epo.fif.gz\", overwrite=True)"
   ]
  },
  {
   "cell_type": "code",
   "execution_count": 10,
   "id": "d44aceef",
   "metadata": {},
   "outputs": [
    {
     "name": "stderr",
     "output_type": "stream",
     "text": [
      "/var/folders/_r/kcfrqwd143bfg9vx3jtb4l6w0000gs/T/ipykernel_507/3262485654.py:3: RuntimeWarning: The provided Raw instance does not seems to be referenced to a common average reference (CAR). ICLabel was designed to classify features extracted from an EEG dataset referenced to a CAR (see the 'set_eeg_reference()' method for Raw and Epochs instances).\n",
      "  label = mne_icalabel.label_components(raw_filt, ica, method=\"iclabel\")\n"
     ]
    },
    {
     "ename": "KeyboardInterrupt",
     "evalue": "",
     "output_type": "error",
     "traceback": [
      "\u001b[0;31m---------------------------------------------------------------------------\u001b[0m",
      "\u001b[0;31mKeyboardInterrupt\u001b[0m                         Traceback (most recent call last)",
      "\u001b[1;32m/Users/daniel/Documents/Coding_Projects/GitHub/NMA-FacesHouses/notebooks/filter_epoch.ipynb Cell 4\u001b[0m in \u001b[0;36m<cell line: 3>\u001b[0;34m()\u001b[0m\n\u001b[1;32m      <a href='vscode-notebook-cell:/Users/daniel/Documents/Coding_Projects/GitHub/NMA-FacesHouses/notebooks/filter_epoch.ipynb#ch0000003?line=0'>1</a>\u001b[0m \u001b[39mimport\u001b[39;00m \u001b[39mmne_icalabel\u001b[39;00m\n\u001b[0;32m----> <a href='vscode-notebook-cell:/Users/daniel/Documents/Coding_Projects/GitHub/NMA-FacesHouses/notebooks/filter_epoch.ipynb#ch0000003?line=2'>3</a>\u001b[0m label \u001b[39m=\u001b[39m mne_icalabel\u001b[39m.\u001b[39;49mlabel_components(raw_filt, ica, method\u001b[39m=\u001b[39;49m\u001b[39m\"\u001b[39;49m\u001b[39miclabel\u001b[39;49m\u001b[39m\"\u001b[39;49m)\n",
      "File \u001b[0;32m~/miniconda3/envs/mne/lib/python3.10/site-packages/mne_icalabel/label_components.py:55\u001b[0m, in \u001b[0;36mlabel_components\u001b[0;34m(inst, ica, method)\u001b[0m\n\u001b[1;32m     52\u001b[0m     \u001b[39mraise\u001b[39;00m \u001b[39mRuntimeError\u001b[39;00m(\u001b[39m'\u001b[39m\u001b[39mCannot pass in \u001b[39m\u001b[39m\"\u001b[39m\u001b[39mmanual\u001b[39m\u001b[39m\"\u001b[39m\u001b[39m as a method.\u001b[39m\u001b[39m'\u001b[39m)\n\u001b[1;32m     54\u001b[0m _validate_inst_and_ica(inst, ica)\n\u001b[0;32m---> 55\u001b[0m labels_pred_proba \u001b[39m=\u001b[39m ICALABEL_METHODS[method](inst, ica)  \u001b[39m# type: ignore\u001b[39;00m\n\u001b[1;32m     56\u001b[0m labels_pred \u001b[39m=\u001b[39m np\u001b[39m.\u001b[39margmax(labels_pred_proba, axis\u001b[39m=\u001b[39m\u001b[39m1\u001b[39m)\n\u001b[1;32m     57\u001b[0m labels \u001b[39m=\u001b[39m [ICLABEL_NUMERICAL_TO_STRING[label] \u001b[39mfor\u001b[39;00m label \u001b[39min\u001b[39;00m labels_pred]\n",
      "File \u001b[0;32m~/miniconda3/envs/mne/lib/python3.10/site-packages/mne_icalabel/iclabel/label_components.py:45\u001b[0m, in \u001b[0;36miclabel_label_components\u001b[0;34m(inst, ica)\u001b[0m\n\u001b[1;32m     11\u001b[0m \u001b[39mdef\u001b[39;00m \u001b[39miclabel_label_components\u001b[39m(inst: Union[BaseRaw, BaseEpochs], ica: ICA):\n\u001b[1;32m     12\u001b[0m     \u001b[39m\"\"\"Label the provided ICA components with the ICLabel neural network.\u001b[39;00m\n\u001b[1;32m     13\u001b[0m \n\u001b[1;32m     14\u001b[0m \u001b[39m    This network uses 3 features:\u001b[39;00m\n\u001b[0;32m   (...)\u001b[0m\n\u001b[1;32m     43\u001b[0m \u001b[39m    .. footbibliography::\u001b[39;00m\n\u001b[1;32m     44\u001b[0m \u001b[39m    \"\"\"\u001b[39;00m\n\u001b[0;32m---> 45\u001b[0m     features \u001b[39m=\u001b[39m get_iclabel_features(inst, ica)\n\u001b[1;32m     46\u001b[0m     labels_pred_proba \u001b[39m=\u001b[39m run_iclabel(\u001b[39m*\u001b[39mfeatures)\n\u001b[1;32m     47\u001b[0m     \u001b[39mreturn\u001b[39;00m labels_pred_proba\n",
      "File \u001b[0;32m~/miniconda3/envs/mne/lib/python3.10/site-packages/mne_icalabel/iclabel/features.py:79\u001b[0m, in \u001b[0;36mget_iclabel_features\u001b[0;34m(inst, ica)\u001b[0m\n\u001b[1;32m     76\u001b[0m icaact \u001b[39m=\u001b[39m _compute_ica_activations(inst, ica)\n\u001b[1;32m     78\u001b[0m \u001b[39m# compute topographic feature (float32)\u001b[39;00m\n\u001b[0;32m---> 79\u001b[0m topo \u001b[39m=\u001b[39m _eeg_topoplot(inst, icawinv, ica\u001b[39m.\u001b[39;49mch_names)\n\u001b[1;32m     81\u001b[0m \u001b[39m# compute psd feature (float32)\u001b[39;00m\n\u001b[1;32m     82\u001b[0m psd \u001b[39m=\u001b[39m _eeg_rpsd(inst, ica, icaact)\n",
      "File \u001b[0;32m~/miniconda3/envs/mne/lib/python3.10/site-packages/mne_icalabel/iclabel/features.py:180\u001b[0m, in \u001b[0;36m_eeg_topoplot\u001b[0;34m(inst, icawinv, picks)\u001b[0m\n\u001b[1;32m    178\u001b[0m th \u001b[39m=\u001b[39m np\u001b[39m.\u001b[39mpi \u001b[39m/\u001b[39m \u001b[39m180\u001b[39m \u001b[39m*\u001b[39m th  \u001b[39m# convert degrees to radians\u001b[39;00m\n\u001b[1;32m    179\u001b[0m \u001b[39mfor\u001b[39;00m it \u001b[39min\u001b[39;00m \u001b[39mrange\u001b[39m(ncomp):\n\u001b[0;32m--> 180\u001b[0m     temp_topo \u001b[39m=\u001b[39m _topoplotFast(icawinv[:, it], rd, th)\n\u001b[1;32m    181\u001b[0m     np\u001b[39m.\u001b[39mnan_to_num(temp_topo, copy\u001b[39m=\u001b[39m\u001b[39mFalse\u001b[39;00m)  \u001b[39m# set NaN values to 0 in-place\u001b[39;00m\n\u001b[1;32m    182\u001b[0m     topo[:, :, \u001b[39m0\u001b[39m, it] \u001b[39m=\u001b[39m temp_topo \u001b[39m/\u001b[39m np\u001b[39m.\u001b[39mmax(np\u001b[39m.\u001b[39mabs(temp_topo))\n",
      "File \u001b[0;32m~/miniconda3/envs/mne/lib/python3.10/site-packages/mne_icalabel/iclabel/features.py:230\u001b[0m, in \u001b[0;36m_topoplotFast\u001b[0;34m(values, rd, th)\u001b[0m\n\u001b[1;32m    228\u001b[0m \u001b[39m# additional step for gdatav4 compared to MATLAB: linspace to meshgrid\u001b[39;00m\n\u001b[1;32m    229\u001b[0m XQ, YQ \u001b[39m=\u001b[39m np\u001b[39m.\u001b[39mmeshgrid(xi, yi)\n\u001b[0;32m--> 230\u001b[0m Xi, Yi, Zi \u001b[39m=\u001b[39m _gdatav4(x, y, values\u001b[39m.\u001b[39;49mreshape((\u001b[39m-\u001b[39;49m\u001b[39m1\u001b[39;49m, \u001b[39m1\u001b[39;49m)), XQ, YQ)\n\u001b[1;32m    231\u001b[0m \u001b[39m# additional step for gdatav4 compared to MATLAB: transpose\u001b[39;00m\n\u001b[1;32m    232\u001b[0m Zi \u001b[39m=\u001b[39m Zi\u001b[39m.\u001b[39mT\n",
      "File \u001b[0;32m~/miniconda3/envs/mne/lib/python3.10/site-packages/mne_icalabel/iclabel/utils.py:151\u001b[0m, in \u001b[0;36m_gdatav4\u001b[0;34m(x, y, v, xq, yq)\u001b[0m\n\u001b[1;32m    149\u001b[0m \u001b[39mfor\u001b[39;00m j \u001b[39min\u001b[39;00m \u001b[39mrange\u001b[39m(n):\n\u001b[1;32m    150\u001b[0m     d \u001b[39m=\u001b[39m np\u001b[39m.\u001b[39mabs(xq[i, j] \u001b[39m+\u001b[39m \u001b[39m1\u001b[39mj \u001b[39m*\u001b[39m yq[i, j] \u001b[39m-\u001b[39m xy)\n\u001b[0;32m--> 151\u001b[0m     g \u001b[39m=\u001b[39m np\u001b[39m.\u001b[39msquare(d) \u001b[39m*\u001b[39m (np\u001b[39m.\u001b[39;49mlog(d) \u001b[39m-\u001b[39m \u001b[39m1\u001b[39m)\n\u001b[1;32m    152\u001b[0m     \u001b[39m# Value of Green's function at zero\u001b[39;00m\n\u001b[1;32m    153\u001b[0m     g[np\u001b[39m.\u001b[39mwhere(np\u001b[39m.\u001b[39misclose(d, \u001b[39m0\u001b[39m))] \u001b[39m=\u001b[39m \u001b[39m0\u001b[39m\n",
      "\u001b[0;31mKeyboardInterrupt\u001b[0m: "
     ]
    }
   ],
   "source": [
    "import mne_icalabel\n",
    "\n",
    "label = mne_icalabel.label_components(raw_filt, ica, method=\"iclabel\")"
   ]
  },
  {
   "cell_type": "code",
   "execution_count": 12,
   "id": "665751e8",
   "metadata": {},
   "outputs": [
    {
     "data": {
      "text/plain": [
       "{'face/clean': 2, 'house/clean': 1, 'face/noisy': 12, 'house/noisy': 11}"
      ]
     },
     "execution_count": 12,
     "metadata": {},
     "output_type": "execute_result"
    }
   ],
   "source": [
    "epochs_disk.event_id"
   ]
  },
  {
   "cell_type": "code",
   "execution_count": 9,
   "id": "ee5ea07d",
   "metadata": {},
   "outputs": [
    {
     "data": {
      "text/plain": [
       "{'face/clean': 2, 'house/clean': 1, 'face/noisy': 12, 'house/noisy': 11}"
      ]
     },
     "execution_count": 9,
     "metadata": {},
     "output_type": "execute_result"
    }
   ],
   "source": [
    "epochs.event_id"
   ]
  },
  {
   "cell_type": "code",
   "execution_count": null,
   "id": "46b60a53",
   "metadata": {},
   "outputs": [],
   "source": []
  }
 ],
 "metadata": {
  "kernelspec": {
   "display_name": "Python 3 (ipykernel)",
   "language": "python",
   "name": "python3"
  },
  "language_info": {
   "codemirror_mode": {
    "name": "ipython",
    "version": 3
   },
   "file_extension": ".py",
   "mimetype": "text/x-python",
   "name": "python",
   "nbconvert_exporter": "python",
   "pygments_lexer": "ipython3",
   "version": "3.10.5"
  },
  "vscode": {
   "interpreter": {
    "hash": "c2cb02d829723eaaf3cf37d196c4d6c75a8cfc16de9c3a2392ec25bc684c670d"
   }
  }
 },
 "nbformat": 4,
 "nbformat_minor": 5
}

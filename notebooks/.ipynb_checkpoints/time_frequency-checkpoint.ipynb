{
 "cells": [
  {
   "cell_type": "code",
   "execution_count": 1,
   "id": "70ed73aa-d2b8-41df-a853-185ddc964363",
   "metadata": {},
   "outputs": [],
   "source": [
    "import mne\n",
    "import mne_bids"
   ]
  },
  {
   "cell_type": "code",
   "execution_count": 2,
   "id": "72696016-ed79-433b-9963-626cf70a8653",
   "metadata": {},
   "outputs": [],
   "source": [
    "output_dir = \"/Users/daniel/Documents/Coding_Projects/GitHub/NMA-FacesHouses/data/output\"\n",
    "subjects_dir = \"/Users/daniel/Documents/Coding_Projects/GitHub/NMA-FacesHouses/data/fs_subjects\"\n",
    "subjects = [\"zt\"]"
   ]
  },
  {
   "cell_type": "code",
   "execution_count": 5,
   "id": "0ad9799b-d2a4-4a0e-a484-b4e49814cbbb",
   "metadata": {},
   "outputs": [
    {
     "name": "stdout",
     "output_type": "stream",
     "text": [
      "Reading /Users/daniel/Documents/Coding_Projects/GitHub/NMA-FacesHouses/data/output/epoched/zt-epo.fif.gz ...\n",
      "    Found the data of interest:\n",
      "        t =    -200.00 ...     800.00 ms\n",
      "        0 CTF compensation matrices available\n",
      "0 bad epochs dropped\n",
      "Not setting metadata\n",
      "930 matching events found\n",
      "No baseline correction applied\n",
      "0 projection items activated\n"
     ]
    }
   ],
   "source": [
    "for subject in subjects:\n",
    "    epoch = mne.read_epochs(f\"{output_dir}/epoched/{subject}-epo.fif.gz\")\n",
    "    "
   ]
  },
  {
   "cell_type": "code",
   "execution_count": null,
   "id": "67b9ab37-f3d3-4196-979a-c4006e977278",
   "metadata": {},
   "outputs": [],
   "source": [
    "tfr = mne.time_frequency"
   ]
  }
 ],
 "metadata": {
  "kernelspec": {
   "display_name": "Python 3 (ipykernel)",
   "language": "python",
   "name": "python3"
  },
  "language_info": {
   "codemirror_mode": {
    "name": "ipython",
    "version": 3
   },
   "file_extension": ".py",
   "mimetype": "text/x-python",
   "name": "python",
   "nbconvert_exporter": "python",
   "pygments_lexer": "ipython3",
   "version": "3.10.5"
  }
 },
 "nbformat": 4,
 "nbformat_minor": 5
}

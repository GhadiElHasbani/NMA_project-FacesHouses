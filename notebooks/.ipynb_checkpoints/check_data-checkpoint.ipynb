{
 "cells": [
  {
   "cell_type": "code",
   "execution_count": 10,
   "outputs": [],
   "source": [
    "import mne\n",
    "import mne_bids"
   ],
   "metadata": {
    "collapsed": false,
    "pycharm": {
     "name": "#%%\n"
    }
   }
  },
  {
   "cell_type": "code",
   "execution_count": 11,
   "outputs": [
    {
     "name": "stdout",
     "output_type": "stream",
     "text": [
      "Extracting parameters from /Users/daniel/Documents/Coding_Projects/GitHub/NMA-FacesHouses/data/BIDS/sub-ap/ses-clean/ieeg/sub-ap_ses-clean_task-train_ieeg.vhdr...\n",
      "Setting channel info structure...\n",
      "Reading events from /Users/daniel/Documents/Coding_Projects/GitHub/NMA-FacesHouses/data/BIDS/sub-ap/ses-clean/ieeg/sub-ap_ses-clean_task-train_events.tsv.\n",
      "Reading channel info from /Users/daniel/Documents/Coding_Projects/GitHub/NMA-FacesHouses/data/BIDS/sub-ap/ses-clean/ieeg/sub-ap_ses-clean_task-train_channels.tsv.\n",
      "Reading electrode coords from /Users/daniel/Documents/Coding_Projects/GitHub/NMA-FacesHouses/data/BIDS/sub-ap/ses-clean/ieeg/sub-ap_ses-clean_space-ACPC_electrodes.tsv.\n"
     ]
    }
   ],
   "source": [
    "path = mne_bids.BIDSPath(root=\"/Users/daniel/Documents/Coding_Projects/GitHub/NMA-FacesHouses/data/BIDS\", subject=\"ap\", session=\"clean\", task=\"train\", datatype=\"ieeg\")\n",
    "raw_data = mne_bids.read_raw_bids(path)"
   ],
   "metadata": {
    "collapsed": false,
    "pycharm": {
     "name": "#%%\n"
    }
   }
  },
  {
   "cell_type": "code",
   "execution_count": 13,
   "outputs": [
    {
     "data": {
      "text/plain": "<DigMontage | 0 extras (headshape), 0 HPIs, 0 fiducials, 41 channels>"
     },
     "execution_count": 13,
     "metadata": {},
     "output_type": "execute_result"
    }
   ],
   "source": [
    "raw_data.get_montage()."
   ],
   "metadata": {
    "collapsed": false,
    "pycharm": {
     "name": "#%%\n"
    }
   }
  },
  {
   "cell_type": "code",
   "execution_count": null,
   "outputs": [],
   "source": [],
   "metadata": {
    "collapsed": false,
    "pycharm": {
     "name": "#%%\n"
    }
   }
  }
 ],
 "metadata": {
  "kernelspec": {
   "display_name": "Python 3",
   "language": "python",
   "name": "python3"
  },
  "language_info": {
   "codemirror_mode": {
    "name": "ipython",
    "version": 2
   },
   "file_extension": ".py",
   "mimetype": "text/x-python",
   "name": "python",
   "nbconvert_exporter": "python",
   "pygments_lexer": "ipython2",
   "version": "2.7.6"
  }
 },
 "nbformat": 4,
 "nbformat_minor": 0
}
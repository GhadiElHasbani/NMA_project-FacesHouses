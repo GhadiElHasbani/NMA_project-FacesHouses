{
 "cells": [
  {
   "cell_type": "code",
   "execution_count": 1,
   "metadata": {},
   "outputs": [],
   "source": [
    "import mne\n",
    "\n",
    "#from sklearnex import patch_sklearn\n",
    "\n",
    "#patch_sklearn()\n",
    "\n",
    "from sklearn.preprocessing import LabelEncoder, RobustScaler\n",
    "from sklearn.pipeline import make_pipeline\n",
    "from sklearn.svm import SVC\n",
    "from sklearn.linear_model import LogisticRegression \n",
    "\n",
    "import numpy as np\n",
    "import os\n",
    "from tqdm.auto import tqdm"
   ]
  },
  {
   "cell_type": "code",
   "execution_count": 4,
   "metadata": {},
   "outputs": [],
   "source": [
    "output_dir = \"/Users/daniel/Documents/Coding_Projects/GitHub/NMA-FacesHouses/data/output\"\n",
    "subject = [\"ap\"]"
   ]
  },
  {
   "cell_type": "code",
   "execution_count": 14,
   "metadata": {},
   "outputs": [
    {
     "data": {
      "application/vnd.jupyter.widget-view+json": {
       "model_id": "67327a45a1cc4e4f89fb349b13ba5386",
       "version_major": 2,
       "version_minor": 0
      },
      "text/plain": [
       "Subject:   0%|          | 0/7 [00:00<?, ?it/s]"
      ]
     },
     "metadata": {},
     "output_type": "display_data"
    },
    {
     "name": "stdout",
     "output_type": "stream",
     "text": [
      "Reading /Users/daniel/Documents/Coding_Projects/GitHub/NMA-FacesHouses/data/output/tfr/ap-tfr.h5 ...\n",
      "Not setting metadata\n"
     ]
    },
    {
     "data": {
      "application/vnd.jupyter.widget-view+json": {
       "model_id": "32bebb746f4f4f8c883edba34f572357",
       "version_major": 2,
       "version_minor": 0
      },
      "text/plain": [
       "  0%|          | Fitting GeneralizingEstimator : 0/51 [00:00<?,       ?it/s]"
      ]
     },
     "metadata": {},
     "output_type": "display_data"
    },
    {
     "data": {
      "application/vnd.jupyter.widget-view+json": {
       "model_id": "e6bca0e99abe415a9fca99ef1540332f",
       "version_major": 2,
       "version_minor": 0
      },
      "text/plain": [
       "  0%|          | Scoring GeneralizingEstimator : 0/2601 [00:00<?,       ?it/s]"
      ]
     },
     "metadata": {},
     "output_type": "display_data"
    },
    {
     "ename": "KeyboardInterrupt",
     "evalue": "",
     "output_type": "error",
     "traceback": [
      "\u001b[0;31m---------------------------------------------------------------------------\u001b[0m",
      "\u001b[0;31mKeyboardInterrupt\u001b[0m                         Traceback (most recent call last)",
      "\u001b[1;32m/Users/daniel/Documents/Coding_Projects/GitHub/NMA-FacesHouses/notebooks/decoding.ipynb Cell 3\u001b[0m in \u001b[0;36m<cell line: 4>\u001b[0;34m()\u001b[0m\n\u001b[1;32m     <a href='vscode-notebook-cell:/Users/daniel/Documents/Coding_Projects/GitHub/NMA-FacesHouses/notebooks/decoding.ipynb#ch0000002?line=13'>14</a>\u001b[0m pipe \u001b[39m=\u001b[39m make_pipeline(\n\u001b[1;32m     <a href='vscode-notebook-cell:/Users/daniel/Documents/Coding_Projects/GitHub/NMA-FacesHouses/notebooks/decoding.ipynb#ch0000002?line=14'>15</a>\u001b[0m     \u001b[39m#mne.decoding.Scaler(scalings=\"median\"),\u001b[39;00m\n\u001b[1;32m     <a href='vscode-notebook-cell:/Users/daniel/Documents/Coding_Projects/GitHub/NMA-FacesHouses/notebooks/decoding.ipynb#ch0000002?line=15'>16</a>\u001b[0m     mne\u001b[39m.\u001b[39mdecoding\u001b[39m.\u001b[39mVectorizer(),\n\u001b[0;32m   (...)\u001b[0m\n\u001b[1;32m     <a href='vscode-notebook-cell:/Users/daniel/Documents/Coding_Projects/GitHub/NMA-FacesHouses/notebooks/decoding.ipynb#ch0000002?line=18'>19</a>\u001b[0m     LogisticRegression(solver\u001b[39m=\u001b[39m\u001b[39m\"\u001b[39m\u001b[39mliblinear\u001b[39m\u001b[39m\"\u001b[39m)\n\u001b[1;32m     <a href='vscode-notebook-cell:/Users/daniel/Documents/Coding_Projects/GitHub/NMA-FacesHouses/notebooks/decoding.ipynb#ch0000002?line=19'>20</a>\u001b[0m )\n\u001b[1;32m     <a href='vscode-notebook-cell:/Users/daniel/Documents/Coding_Projects/GitHub/NMA-FacesHouses/notebooks/decoding.ipynb#ch0000002?line=21'>22</a>\u001b[0m gle \u001b[39m=\u001b[39m mne\u001b[39m.\u001b[39mdecoding\u001b[39m.\u001b[39mGeneralizingEstimator(pipe, scoring\u001b[39m=\u001b[39m\u001b[39m\"\u001b[39m\u001b[39mbalanced_accuracy\u001b[39m\u001b[39m\"\u001b[39m)\n\u001b[0;32m---> <a href='vscode-notebook-cell:/Users/daniel/Documents/Coding_Projects/GitHub/NMA-FacesHouses/notebooks/decoding.ipynb#ch0000002?line=23'>24</a>\u001b[0m clean_scores\u001b[39m.\u001b[39mappend(np\u001b[39m.\u001b[39mmean(mne\u001b[39m.\u001b[39;49mdecoding\u001b[39m.\u001b[39;49mcross_val_multiscore(gle, X_clean, y_clean)))\n\u001b[1;32m     <a href='vscode-notebook-cell:/Users/daniel/Documents/Coding_Projects/GitHub/NMA-FacesHouses/notebooks/decoding.ipynb#ch0000002?line=25'>26</a>\u001b[0m gle\u001b[39m.\u001b[39mfit(X_clean, y_clean)\n\u001b[1;32m     <a href='vscode-notebook-cell:/Users/daniel/Documents/Coding_Projects/GitHub/NMA-FacesHouses/notebooks/decoding.ipynb#ch0000002?line=26'>27</a>\u001b[0m noisy_scores\u001b[39m.\u001b[39mappend(gle\u001b[39m.\u001b[39mscore(X_noisy, y_noisy))\n",
      "File \u001b[0;32m~/miniconda3/envs/mne/lib/python3.10/site-packages/mne/decoding/base.py:436\u001b[0m, in \u001b[0;36mcross_val_multiscore\u001b[0;34m(estimator, X, y, groups, scoring, cv, n_jobs, verbose, fit_params, pre_dispatch)\u001b[0m\n\u001b[1;32m    431\u001b[0m \u001b[39m# We clone the estimator to make sure that all the folds are\u001b[39;00m\n\u001b[1;32m    432\u001b[0m \u001b[39m# independent, and that it is pickle-able.\u001b[39;00m\n\u001b[1;32m    433\u001b[0m \u001b[39m# Note: this parallelization is implemented using MNE Parallel\u001b[39;00m\n\u001b[1;32m    434\u001b[0m parallel, p_func, n_jobs \u001b[39m=\u001b[39m parallel_func(_fit_and_score, n_jobs,\n\u001b[1;32m    435\u001b[0m                                          pre_dispatch\u001b[39m=\u001b[39mpre_dispatch)\n\u001b[0;32m--> 436\u001b[0m scores \u001b[39m=\u001b[39m parallel(p_func(clone(estimator), X, y, scorer, train, test,\n\u001b[1;32m    437\u001b[0m                          \u001b[39m0\u001b[39;49m, \u001b[39mNone\u001b[39;49;00m, fit_params)\n\u001b[1;32m    438\u001b[0m                   \u001b[39mfor\u001b[39;49;00m train, test \u001b[39min\u001b[39;49;00m cv_iter)\n\u001b[1;32m    439\u001b[0m \u001b[39mreturn\u001b[39;00m np\u001b[39m.\u001b[39marray(scores)[:, \u001b[39m0\u001b[39m, \u001b[39m.\u001b[39m\u001b[39m.\u001b[39m\u001b[39m.\u001b[39m]\n",
      "File \u001b[0;32m~/miniconda3/envs/mne/lib/python3.10/site-packages/mne/decoding/base.py:436\u001b[0m, in \u001b[0;36m<genexpr>\u001b[0;34m(.0)\u001b[0m\n\u001b[1;32m    431\u001b[0m \u001b[39m# We clone the estimator to make sure that all the folds are\u001b[39;00m\n\u001b[1;32m    432\u001b[0m \u001b[39m# independent, and that it is pickle-able.\u001b[39;00m\n\u001b[1;32m    433\u001b[0m \u001b[39m# Note: this parallelization is implemented using MNE Parallel\u001b[39;00m\n\u001b[1;32m    434\u001b[0m parallel, p_func, n_jobs \u001b[39m=\u001b[39m parallel_func(_fit_and_score, n_jobs,\n\u001b[1;32m    435\u001b[0m                                          pre_dispatch\u001b[39m=\u001b[39mpre_dispatch)\n\u001b[0;32m--> 436\u001b[0m scores \u001b[39m=\u001b[39m parallel(p_func(clone(estimator), X, y, scorer, train, test,\n\u001b[1;32m    437\u001b[0m                          \u001b[39m0\u001b[39;49m, \u001b[39mNone\u001b[39;49;00m, fit_params)\n\u001b[1;32m    438\u001b[0m                   \u001b[39mfor\u001b[39;00m train, test \u001b[39min\u001b[39;00m cv_iter)\n\u001b[1;32m    439\u001b[0m \u001b[39mreturn\u001b[39;00m np\u001b[39m.\u001b[39marray(scores)[:, \u001b[39m0\u001b[39m, \u001b[39m.\u001b[39m\u001b[39m.\u001b[39m\u001b[39m.\u001b[39m]\n",
      "File \u001b[0;32m~/miniconda3/envs/mne/lib/python3.10/site-packages/mne/decoding/base.py:498\u001b[0m, in \u001b[0;36m_fit_and_score\u001b[0;34m(estimator, X, y, scorer, train, test, verbose, parameters, fit_params, return_train_score, return_parameters, return_n_test_samples, return_times, error_score)\u001b[0m\n\u001b[1;32m    496\u001b[0m \u001b[39melse\u001b[39;00m:\n\u001b[1;32m    497\u001b[0m     fit_time \u001b[39m=\u001b[39m time\u001b[39m.\u001b[39mtime() \u001b[39m-\u001b[39m start_time\n\u001b[0;32m--> 498\u001b[0m     test_score \u001b[39m=\u001b[39m _score(estimator, X_test, y_test, scorer)\n\u001b[1;32m    499\u001b[0m     score_time \u001b[39m=\u001b[39m time\u001b[39m.\u001b[39mtime() \u001b[39m-\u001b[39m start_time \u001b[39m-\u001b[39m fit_time\n\u001b[1;32m    500\u001b[0m     \u001b[39mif\u001b[39;00m return_train_score:\n",
      "File \u001b[0;32m~/miniconda3/envs/mne/lib/python3.10/site-packages/mne/decoding/base.py:530\u001b[0m, in \u001b[0;36m_score\u001b[0;34m(estimator, X_test, y_test, scorer)\u001b[0m\n\u001b[1;32m    528\u001b[0m     score \u001b[39m=\u001b[39m scorer(estimator, X_test)\n\u001b[1;32m    529\u001b[0m \u001b[39melse\u001b[39;00m:\n\u001b[0;32m--> 530\u001b[0m     score \u001b[39m=\u001b[39m scorer(estimator, X_test, y_test)\n\u001b[1;32m    531\u001b[0m \u001b[39mif\u001b[39;00m \u001b[39mhasattr\u001b[39m(score, \u001b[39m'\u001b[39m\u001b[39mitem\u001b[39m\u001b[39m'\u001b[39m):\n\u001b[1;32m    532\u001b[0m     \u001b[39mtry\u001b[39;00m:\n\u001b[1;32m    533\u001b[0m         \u001b[39m# e.g. unwrap memmapped scalars\u001b[39;00m\n",
      "File \u001b[0;32m~/miniconda3/envs/mne/lib/python3.10/site-packages/sklearn/metrics/_scorer.py:429\u001b[0m, in \u001b[0;36m_passthrough_scorer\u001b[0;34m(estimator, *args, **kwargs)\u001b[0m\n\u001b[1;32m    427\u001b[0m \u001b[39mdef\u001b[39;00m \u001b[39m_passthrough_scorer\u001b[39m(estimator, \u001b[39m*\u001b[39margs, \u001b[39m*\u001b[39m\u001b[39m*\u001b[39mkwargs):\n\u001b[1;32m    428\u001b[0m     \u001b[39m\"\"\"Function that wraps estimator.score\"\"\"\u001b[39;00m\n\u001b[0;32m--> 429\u001b[0m     \u001b[39mreturn\u001b[39;00m estimator\u001b[39m.\u001b[39;49mscore(\u001b[39m*\u001b[39;49margs, \u001b[39m*\u001b[39;49m\u001b[39m*\u001b[39;49mkwargs)\n",
      "File \u001b[0;32m~/miniconda3/envs/mne/lib/python3.10/site-packages/mne/decoding/search_light.py:561\u001b[0m, in \u001b[0;36mGeneralizingEstimator.score\u001b[0;34m(self, X, y)\u001b[0m\n\u001b[1;32m    559\u001b[0m y \u001b[39m=\u001b[39m _fix_auc(scoring, y)\n\u001b[1;32m    560\u001b[0m \u001b[39mwith\u001b[39;00m ProgressBar(X\u001b[39m.\u001b[39mshape[\u001b[39m-\u001b[39m\u001b[39m1\u001b[39m] \u001b[39m*\u001b[39m \u001b[39mlen\u001b[39m(\u001b[39mself\u001b[39m\u001b[39m.\u001b[39mestimators_), mesg\u001b[39m=\u001b[39mmesg) \u001b[39mas\u001b[39;00m pb:\n\u001b[0;32m--> 561\u001b[0m     score \u001b[39m=\u001b[39m parallel(p_func(\u001b[39mself\u001b[39;49m\u001b[39m.\u001b[39;49mestimators_, scoring, x, y,\n\u001b[1;32m    562\u001b[0m                             pb\u001b[39m.\u001b[39;49msubset(pb_idx))\n\u001b[1;32m    563\u001b[0m                      \u001b[39mfor\u001b[39;49;00m pb_idx, x \u001b[39min\u001b[39;49;00m array_split_idx(\n\u001b[1;32m    564\u001b[0m                          X, n_jobs, axis\u001b[39m=\u001b[39;49m\u001b[39m-\u001b[39;49m\u001b[39m1\u001b[39;49m,\n\u001b[1;32m    565\u001b[0m                          n_per_split\u001b[39m=\u001b[39;49m\u001b[39mlen\u001b[39;49m(\u001b[39mself\u001b[39;49m\u001b[39m.\u001b[39;49mestimators_)))\n\u001b[1;32m    567\u001b[0m score \u001b[39m=\u001b[39m np\u001b[39m.\u001b[39mconcatenate(score, axis\u001b[39m=\u001b[39m\u001b[39m1\u001b[39m)\n\u001b[1;32m    568\u001b[0m \u001b[39mreturn\u001b[39;00m score\n",
      "File \u001b[0;32m~/miniconda3/envs/mne/lib/python3.10/site-packages/mne/decoding/search_light.py:561\u001b[0m, in \u001b[0;36m<genexpr>\u001b[0;34m(.0)\u001b[0m\n\u001b[1;32m    559\u001b[0m y \u001b[39m=\u001b[39m _fix_auc(scoring, y)\n\u001b[1;32m    560\u001b[0m \u001b[39mwith\u001b[39;00m ProgressBar(X\u001b[39m.\u001b[39mshape[\u001b[39m-\u001b[39m\u001b[39m1\u001b[39m] \u001b[39m*\u001b[39m \u001b[39mlen\u001b[39m(\u001b[39mself\u001b[39m\u001b[39m.\u001b[39mestimators_), mesg\u001b[39m=\u001b[39mmesg) \u001b[39mas\u001b[39;00m pb:\n\u001b[0;32m--> 561\u001b[0m     score \u001b[39m=\u001b[39m parallel(p_func(\u001b[39mself\u001b[39;49m\u001b[39m.\u001b[39;49mestimators_, scoring, x, y,\n\u001b[1;32m    562\u001b[0m                             pb\u001b[39m.\u001b[39;49msubset(pb_idx))\n\u001b[1;32m    563\u001b[0m                      \u001b[39mfor\u001b[39;00m pb_idx, x \u001b[39min\u001b[39;00m array_split_idx(\n\u001b[1;32m    564\u001b[0m                          X, n_jobs, axis\u001b[39m=\u001b[39m\u001b[39m-\u001b[39m\u001b[39m1\u001b[39m,\n\u001b[1;32m    565\u001b[0m                          n_per_split\u001b[39m=\u001b[39m\u001b[39mlen\u001b[39m(\u001b[39mself\u001b[39m\u001b[39m.\u001b[39mestimators_)))\n\u001b[1;32m    567\u001b[0m score \u001b[39m=\u001b[39m np\u001b[39m.\u001b[39mconcatenate(score, axis\u001b[39m=\u001b[39m\u001b[39m1\u001b[39m)\n\u001b[1;32m    568\u001b[0m \u001b[39mreturn\u001b[39;00m score\n",
      "File \u001b[0;32m~/miniconda3/envs/mne/lib/python3.10/site-packages/mne/decoding/search_light.py:649\u001b[0m, in \u001b[0;36m_gl_score\u001b[0;34m(estimators, scoring, X, y, pb)\u001b[0m\n\u001b[1;32m    647\u001b[0m \u001b[39mfor\u001b[39;00m jj \u001b[39min\u001b[39;00m \u001b[39mrange\u001b[39m(X\u001b[39m.\u001b[39mshape[\u001b[39m-\u001b[39m\u001b[39m1\u001b[39m]):\n\u001b[1;32m    648\u001b[0m     \u001b[39mfor\u001b[39;00m ii, est \u001b[39min\u001b[39;00m \u001b[39menumerate\u001b[39m(estimators):\n\u001b[0;32m--> 649\u001b[0m         _score \u001b[39m=\u001b[39m scoring(est, X[\u001b[39m.\u001b[39;49m\u001b[39m.\u001b[39;49m\u001b[39m.\u001b[39;49m, jj], y)\n\u001b[1;32m    650\u001b[0m         \u001b[39m# Initialize array of predictions on the first score iteration\u001b[39;00m\n\u001b[1;32m    651\u001b[0m         \u001b[39mif\u001b[39;00m (ii \u001b[39m==\u001b[39m \u001b[39m0\u001b[39m) \u001b[39mand\u001b[39;00m (jj \u001b[39m==\u001b[39m \u001b[39m0\u001b[39m):\n",
      "File \u001b[0;32m~/miniconda3/envs/mne/lib/python3.10/site-packages/sklearn/metrics/_scorer.py:219\u001b[0m, in \u001b[0;36m_BaseScorer.__call__\u001b[0;34m(self, estimator, X, y_true, sample_weight)\u001b[0m\n\u001b[1;32m    196\u001b[0m \u001b[39mdef\u001b[39;00m \u001b[39m__call__\u001b[39m(\u001b[39mself\u001b[39m, estimator, X, y_true, sample_weight\u001b[39m=\u001b[39m\u001b[39mNone\u001b[39;00m):\n\u001b[1;32m    197\u001b[0m     \u001b[39m\"\"\"Evaluate predicted target values for X relative to y_true.\u001b[39;00m\n\u001b[1;32m    198\u001b[0m \n\u001b[1;32m    199\u001b[0m \u001b[39m    Parameters\u001b[39;00m\n\u001b[0;32m   (...)\u001b[0m\n\u001b[1;32m    217\u001b[0m \u001b[39m        Score function applied to prediction of estimator on X.\u001b[39;00m\n\u001b[1;32m    218\u001b[0m \u001b[39m    \"\"\"\u001b[39;00m\n\u001b[0;32m--> 219\u001b[0m     \u001b[39mreturn\u001b[39;00m \u001b[39mself\u001b[39;49m\u001b[39m.\u001b[39;49m_score(\n\u001b[1;32m    220\u001b[0m         partial(_cached_call, \u001b[39mNone\u001b[39;49;00m),\n\u001b[1;32m    221\u001b[0m         estimator,\n\u001b[1;32m    222\u001b[0m         X,\n\u001b[1;32m    223\u001b[0m         y_true,\n\u001b[1;32m    224\u001b[0m         sample_weight\u001b[39m=\u001b[39;49msample_weight,\n\u001b[1;32m    225\u001b[0m     )\n",
      "File \u001b[0;32m~/miniconda3/envs/mne/lib/python3.10/site-packages/sklearn/metrics/_scorer.py:261\u001b[0m, in \u001b[0;36m_PredictScorer._score\u001b[0;34m(self, method_caller, estimator, X, y_true, sample_weight)\u001b[0m\n\u001b[1;32m    233\u001b[0m \u001b[39mdef\u001b[39;00m \u001b[39m_score\u001b[39m(\u001b[39mself\u001b[39m, method_caller, estimator, X, y_true, sample_weight\u001b[39m=\u001b[39m\u001b[39mNone\u001b[39;00m):\n\u001b[1;32m    234\u001b[0m     \u001b[39m\"\"\"Evaluate predicted target values for X relative to y_true.\u001b[39;00m\n\u001b[1;32m    235\u001b[0m \n\u001b[1;32m    236\u001b[0m \u001b[39m    Parameters\u001b[39;00m\n\u001b[0;32m   (...)\u001b[0m\n\u001b[1;32m    258\u001b[0m \u001b[39m        Score function applied to prediction of estimator on X.\u001b[39;00m\n\u001b[1;32m    259\u001b[0m \u001b[39m    \"\"\"\u001b[39;00m\n\u001b[0;32m--> 261\u001b[0m     y_pred \u001b[39m=\u001b[39m method_caller(estimator, \u001b[39m\"\u001b[39;49m\u001b[39mpredict\u001b[39;49m\u001b[39m\"\u001b[39;49m, X)\n\u001b[1;32m    262\u001b[0m     \u001b[39mif\u001b[39;00m sample_weight \u001b[39mis\u001b[39;00m \u001b[39mnot\u001b[39;00m \u001b[39mNone\u001b[39;00m:\n\u001b[1;32m    263\u001b[0m         \u001b[39mreturn\u001b[39;00m \u001b[39mself\u001b[39m\u001b[39m.\u001b[39m_sign \u001b[39m*\u001b[39m \u001b[39mself\u001b[39m\u001b[39m.\u001b[39m_score_func(\n\u001b[1;32m    264\u001b[0m             y_true, y_pred, sample_weight\u001b[39m=\u001b[39msample_weight, \u001b[39m*\u001b[39m\u001b[39m*\u001b[39m\u001b[39mself\u001b[39m\u001b[39m.\u001b[39m_kwargs\n\u001b[1;32m    265\u001b[0m         )\n",
      "File \u001b[0;32m~/miniconda3/envs/mne/lib/python3.10/site-packages/sklearn/metrics/_scorer.py:71\u001b[0m, in \u001b[0;36m_cached_call\u001b[0;34m(cache, estimator, method, *args, **kwargs)\u001b[0m\n\u001b[1;32m     69\u001b[0m \u001b[39m\"\"\"Call estimator with method and args and kwargs.\"\"\"\u001b[39;00m\n\u001b[1;32m     70\u001b[0m \u001b[39mif\u001b[39;00m cache \u001b[39mis\u001b[39;00m \u001b[39mNone\u001b[39;00m:\n\u001b[0;32m---> 71\u001b[0m     \u001b[39mreturn\u001b[39;00m \u001b[39mgetattr\u001b[39;49m(estimator, method)(\u001b[39m*\u001b[39;49margs, \u001b[39m*\u001b[39;49m\u001b[39m*\u001b[39;49mkwargs)\n\u001b[1;32m     73\u001b[0m \u001b[39mtry\u001b[39;00m:\n\u001b[1;32m     74\u001b[0m     \u001b[39mreturn\u001b[39;00m cache[method]\n",
      "File \u001b[0;32m~/miniconda3/envs/mne/lib/python3.10/site-packages/sklearn/pipeline.py:458\u001b[0m, in \u001b[0;36mPipeline.predict\u001b[0;34m(self, X, **predict_params)\u001b[0m\n\u001b[1;32m    456\u001b[0m \u001b[39mfor\u001b[39;00m _, name, transform \u001b[39min\u001b[39;00m \u001b[39mself\u001b[39m\u001b[39m.\u001b[39m_iter(with_final\u001b[39m=\u001b[39m\u001b[39mFalse\u001b[39;00m):\n\u001b[1;32m    457\u001b[0m     Xt \u001b[39m=\u001b[39m transform\u001b[39m.\u001b[39mtransform(Xt)\n\u001b[0;32m--> 458\u001b[0m \u001b[39mreturn\u001b[39;00m \u001b[39mself\u001b[39;49m\u001b[39m.\u001b[39;49msteps[\u001b[39m-\u001b[39;49m\u001b[39m1\u001b[39;49m][\u001b[39m1\u001b[39;49m]\u001b[39m.\u001b[39;49mpredict(Xt, \u001b[39m*\u001b[39;49m\u001b[39m*\u001b[39;49mpredict_params)\n",
      "File \u001b[0;32m~/miniconda3/envs/mne/lib/python3.10/site-packages/sklearn/linear_model/_base.py:447\u001b[0m, in \u001b[0;36mLinearClassifierMixin.predict\u001b[0;34m(self, X)\u001b[0m\n\u001b[1;32m    433\u001b[0m \u001b[39mdef\u001b[39;00m \u001b[39mpredict\u001b[39m(\u001b[39mself\u001b[39m, X):\n\u001b[1;32m    434\u001b[0m     \u001b[39m\"\"\"\u001b[39;00m\n\u001b[1;32m    435\u001b[0m \u001b[39m    Predict class labels for samples in X.\u001b[39;00m\n\u001b[1;32m    436\u001b[0m \n\u001b[0;32m   (...)\u001b[0m\n\u001b[1;32m    445\u001b[0m \u001b[39m        Vector containing the class labels for each sample.\u001b[39;00m\n\u001b[1;32m    446\u001b[0m \u001b[39m    \"\"\"\u001b[39;00m\n\u001b[0;32m--> 447\u001b[0m     scores \u001b[39m=\u001b[39m \u001b[39mself\u001b[39;49m\u001b[39m.\u001b[39;49mdecision_function(X)\n\u001b[1;32m    448\u001b[0m     \u001b[39mif\u001b[39;00m \u001b[39mlen\u001b[39m(scores\u001b[39m.\u001b[39mshape) \u001b[39m==\u001b[39m \u001b[39m1\u001b[39m:\n\u001b[1;32m    449\u001b[0m         indices \u001b[39m=\u001b[39m (scores \u001b[39m>\u001b[39m \u001b[39m0\u001b[39m)\u001b[39m.\u001b[39mastype(\u001b[39mint\u001b[39m)\n",
      "File \u001b[0;32m~/miniconda3/envs/mne/lib/python3.10/site-packages/sklearn/linear_model/_base.py:429\u001b[0m, in \u001b[0;36mLinearClassifierMixin.decision_function\u001b[0;34m(self, X)\u001b[0m\n\u001b[1;32m    409\u001b[0m \u001b[39m\"\"\"\u001b[39;00m\n\u001b[1;32m    410\u001b[0m \u001b[39mPredict confidence scores for samples.\u001b[39;00m\n\u001b[1;32m    411\u001b[0m \n\u001b[0;32m   (...)\u001b[0m\n\u001b[1;32m    425\u001b[0m \u001b[39m    this class would be predicted.\u001b[39;00m\n\u001b[1;32m    426\u001b[0m \u001b[39m\"\"\"\u001b[39;00m\n\u001b[1;32m    427\u001b[0m check_is_fitted(\u001b[39mself\u001b[39m)\n\u001b[0;32m--> 429\u001b[0m X \u001b[39m=\u001b[39m \u001b[39mself\u001b[39;49m\u001b[39m.\u001b[39;49m_validate_data(X, accept_sparse\u001b[39m=\u001b[39;49m\u001b[39m\"\u001b[39;49m\u001b[39mcsr\u001b[39;49m\u001b[39m\"\u001b[39;49m, reset\u001b[39m=\u001b[39;49m\u001b[39mFalse\u001b[39;49;00m)\n\u001b[1;32m    430\u001b[0m scores \u001b[39m=\u001b[39m safe_sparse_dot(X, \u001b[39mself\u001b[39m\u001b[39m.\u001b[39mcoef_\u001b[39m.\u001b[39mT, dense_output\u001b[39m=\u001b[39m\u001b[39mTrue\u001b[39;00m) \u001b[39m+\u001b[39m \u001b[39mself\u001b[39m\u001b[39m.\u001b[39mintercept_\n\u001b[1;32m    431\u001b[0m \u001b[39mreturn\u001b[39;00m scores\u001b[39m.\u001b[39mravel() \u001b[39mif\u001b[39;00m scores\u001b[39m.\u001b[39mshape[\u001b[39m1\u001b[39m] \u001b[39m==\u001b[39m \u001b[39m1\u001b[39m \u001b[39melse\u001b[39;00m scores\n",
      "File \u001b[0;32m~/miniconda3/envs/mne/lib/python3.10/site-packages/sklearn/base.py:577\u001b[0m, in \u001b[0;36mBaseEstimator._validate_data\u001b[0;34m(self, X, y, reset, validate_separately, **check_params)\u001b[0m\n\u001b[1;32m    575\u001b[0m     \u001b[39mraise\u001b[39;00m \u001b[39mValueError\u001b[39;00m(\u001b[39m\"\u001b[39m\u001b[39mValidation should be done on X, y or both.\u001b[39m\u001b[39m\"\u001b[39m)\n\u001b[1;32m    576\u001b[0m \u001b[39melif\u001b[39;00m \u001b[39mnot\u001b[39;00m no_val_X \u001b[39mand\u001b[39;00m no_val_y:\n\u001b[0;32m--> 577\u001b[0m     X \u001b[39m=\u001b[39m check_array(X, input_name\u001b[39m=\u001b[39;49m\u001b[39m\"\u001b[39;49m\u001b[39mX\u001b[39;49m\u001b[39m\"\u001b[39;49m, \u001b[39m*\u001b[39;49m\u001b[39m*\u001b[39;49mcheck_params)\n\u001b[1;32m    578\u001b[0m     out \u001b[39m=\u001b[39m X\n\u001b[1;32m    579\u001b[0m \u001b[39melif\u001b[39;00m no_val_X \u001b[39mand\u001b[39;00m \u001b[39mnot\u001b[39;00m no_val_y:\n",
      "File \u001b[0;32m~/miniconda3/envs/mne/lib/python3.10/site-packages/sklearn/utils/validation.py:899\u001b[0m, in \u001b[0;36mcheck_array\u001b[0;34m(array, accept_sparse, accept_large_sparse, dtype, order, copy, force_all_finite, ensure_2d, allow_nd, ensure_min_samples, ensure_min_features, estimator, input_name)\u001b[0m\n\u001b[1;32m    893\u001b[0m         \u001b[39mraise\u001b[39;00m \u001b[39mValueError\u001b[39;00m(\n\u001b[1;32m    894\u001b[0m             \u001b[39m\"\u001b[39m\u001b[39mFound array with dim \u001b[39m\u001b[39m%d\u001b[39;00m\u001b[39m. \u001b[39m\u001b[39m%s\u001b[39;00m\u001b[39m expected <= 2.\u001b[39m\u001b[39m\"\u001b[39m\n\u001b[1;32m    895\u001b[0m             \u001b[39m%\u001b[39m (array\u001b[39m.\u001b[39mndim, estimator_name)\n\u001b[1;32m    896\u001b[0m         )\n\u001b[1;32m    898\u001b[0m     \u001b[39mif\u001b[39;00m force_all_finite:\n\u001b[0;32m--> 899\u001b[0m         _assert_all_finite(\n\u001b[1;32m    900\u001b[0m             array,\n\u001b[1;32m    901\u001b[0m             input_name\u001b[39m=\u001b[39;49minput_name,\n\u001b[1;32m    902\u001b[0m             estimator_name\u001b[39m=\u001b[39;49mestimator_name,\n\u001b[1;32m    903\u001b[0m             allow_nan\u001b[39m=\u001b[39;49mforce_all_finite \u001b[39m==\u001b[39;49m \u001b[39m\"\u001b[39;49m\u001b[39mallow-nan\u001b[39;49m\u001b[39m\"\u001b[39;49m,\n\u001b[1;32m    904\u001b[0m         )\n\u001b[1;32m    906\u001b[0m \u001b[39mif\u001b[39;00m ensure_min_samples \u001b[39m>\u001b[39m \u001b[39m0\u001b[39m:\n\u001b[1;32m    907\u001b[0m     n_samples \u001b[39m=\u001b[39m _num_samples(array)\n",
      "File \u001b[0;32m~/miniconda3/envs/mne/lib/python3.10/site-packages/sklearn/utils/validation.py:102\u001b[0m, in \u001b[0;36m_assert_all_finite\u001b[0;34m(X, allow_nan, msg_dtype, estimator_name, input_name)\u001b[0m\n\u001b[1;32m    100\u001b[0m \u001b[39mif\u001b[39;00m _get_config()[\u001b[39m\"\u001b[39m\u001b[39massume_finite\u001b[39m\u001b[39m\"\u001b[39m]:\n\u001b[1;32m    101\u001b[0m     \u001b[39mreturn\u001b[39;00m\n\u001b[0;32m--> 102\u001b[0m X \u001b[39m=\u001b[39m np\u001b[39m.\u001b[39;49masanyarray(X)\n\u001b[1;32m    103\u001b[0m \u001b[39m# First try an O(n) time, O(1) space solution for the common case that\u001b[39;00m\n\u001b[1;32m    104\u001b[0m \u001b[39m# everything is finite; fall back to O(n) space np.isfinite to prevent\u001b[39;00m\n\u001b[1;32m    105\u001b[0m \u001b[39m# false positives from overflow in sum method. The sum is also calculated\u001b[39;00m\n\u001b[1;32m    106\u001b[0m \u001b[39m# safely to reduce dtype induced overflows.\u001b[39;00m\n\u001b[1;32m    107\u001b[0m is_float \u001b[39m=\u001b[39m X\u001b[39m.\u001b[39mdtype\u001b[39m.\u001b[39mkind \u001b[39min\u001b[39;00m \u001b[39m\"\u001b[39m\u001b[39mfc\u001b[39m\u001b[39m\"\u001b[39m\n",
      "\u001b[0;31mKeyboardInterrupt\u001b[0m: "
     ]
    }
   ],
   "source": [
    "clean_scores = list()\n",
    "noisy_scores = list()\n",
    "\n",
    "for subject in tqdm([\"ap\", \"ca\", \"ha\", \"ja\", \"mv\", \"wc\", \"zt\"], desc=\"Subject\"):\n",
    "    tfr = mne.time_frequency.read_tfrs(os.path.join(output_dir, \"tfr\", f\"{subject}-tfr.h5\"))[0]\n",
    "\n",
    "    X_clean, X_noisy = tfr[\"clean\"]._data.astype(np.float32), tfr[\"noisy\"]._data.astype(np.float32)\n",
    "    y_clean, y_noisy = tfr[\"clean\"].events[:, -1], tfr[\"noisy\"].events[:, -1] # Labels are in the last col\n",
    "\n",
    "    del tfr\n",
    "\n",
    "    y_clean, y_noisy = LabelEncoder().fit_transform(y_clean), LabelEncoder().fit_transform(y_noisy)\n",
    "\n",
    "    pipe = make_pipeline(\n",
    "        #mne.decoding.Scaler(scalings=\"median\"),\n",
    "        mne.decoding.Vectorizer(),\n",
    "        RobustScaler(),\n",
    "        #SVC(kernel=\"liblinear\")\n",
    "        LogisticRegression(solver=\"liblinear\")\n",
    "    )\n",
    "\n",
    "    gle = mne.decoding.GeneralizingEstimator(pipe, scoring=\"balanced_accuracy\")\n",
    "\n",
    "    clean_scores.append(np.mean(mne.decoding.cross_val_multiscore(gle, X_clean, y_clean)))\n",
    "\n",
    "    gle.fit(X_clean, y_clean)\n",
    "    noisy_scores.append(gle.score(X_noisy, y_noisy))\n",
    "\n",
    "    del X_clean, X_noisy, y_clean, y_noisy"
   ]
  },
  {
   "cell_type": "code",
   "execution_count": 11,
   "metadata": {},
   "outputs": [
    {
     "data": {
      "text/plain": [
       "0.6798771121351767"
      ]
     },
     "execution_count": 11,
     "metadata": {},
     "output_type": "execute_result"
    }
   ],
   "source": [
    "np.mean(clean_scores)"
   ]
  },
  {
   "cell_type": "code",
   "execution_count": 13,
   "metadata": {},
   "outputs": [
    {
     "data": {
      "text/plain": [
       "0.9563748079877111"
      ]
     },
     "execution_count": 13,
     "metadata": {},
     "output_type": "execute_result"
    }
   ],
   "source": [
    "np.mean(noisy_scores)"
   ]
  },
  {
   "cell_type": "code",
   "execution_count": 16,
   "metadata": {},
   "outputs": [
    {
     "name": "stdout",
     "output_type": "stream",
     "text": [
      "Reading /Users/daniel/Documents/Coding_Projects/GitHub/NMA-FacesHouses/data/output/tfr/ap-tfr.h5 ...\n",
      "Not setting metadata\n"
     ]
    }
   ],
   "source": [
    "tfr = mne.time_frequency.read_tfrs(os.path.join(output_dir, \"tfr\", f\"{subject}-tfr.h5\"))[0]"
   ]
  },
  {
   "cell_type": "code",
   "execution_count": 17,
   "metadata": {},
   "outputs": [
    {
     "data": {
      "text/plain": [
       "{'face/clean': 10001,\n",
       " 'face/noisy': 10001,\n",
       " 'house/clean': 10002,\n",
       " 'house/noisy': 10002}"
      ]
     },
     "execution_count": 17,
     "metadata": {},
     "output_type": "execute_result"
    }
   ],
   "source": [
    "tfr.event_id"
   ]
  },
  {
   "cell_type": "code",
   "execution_count": null,
   "metadata": {},
   "outputs": [],
   "source": []
  }
 ],
 "metadata": {
  "kernelspec": {
   "display_name": "Python 3.10.5 ('mne')",
   "language": "python",
   "name": "python3"
  },
  "language_info": {
   "codemirror_mode": {
    "name": "ipython",
    "version": 3
   },
   "file_extension": ".py",
   "mimetype": "text/x-python",
   "name": "python",
   "nbconvert_exporter": "python",
   "pygments_lexer": "ipython3",
   "version": "3.10.5"
  },
  "orig_nbformat": 4,
  "vscode": {
   "interpreter": {
    "hash": "c2cb02d829723eaaf3cf37d196c4d6c75a8cfc16de9c3a2392ec25bc684c670d"
   }
  }
 },
 "nbformat": 4,
 "nbformat_minor": 2
}

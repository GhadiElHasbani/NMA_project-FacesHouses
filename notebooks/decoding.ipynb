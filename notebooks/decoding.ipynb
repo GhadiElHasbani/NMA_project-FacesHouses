{
 "cells": [
  {
   "cell_type": "code",
   "execution_count": 1,
   "metadata": {},
   "outputs": [
    {
     "name": "stderr",
     "output_type": "stream",
     "text": [
      "Intel(R) Extension for Scikit-learn* enabled (https://github.com/intel/scikit-learn-intelex)\n"
     ]
    }
   ],
   "source": [
    "import mne\n",
    "\n",
    "from sklearnex import patch_sklearn\n",
    "\n",
    "patch_sklearn()\n",
    "\n",
    "from sklearn.preprocessing import LabelEncoder, RobustScaler\n",
    "from sklearn.pipeline import make_pipeline\n",
    "from sklearn.svm import SVC\n",
    "from sklearn.linear_model import LogisticRegression \n",
    "\n",
    "import numpy as np\n",
    "import os\n",
    "from tqdm.auto import tqdm"
   ]
  },
  {
   "cell_type": "code",
   "execution_count": 2,
   "metadata": {},
   "outputs": [],
   "source": [
    "output_dir = \"/Users/daniel/Documents/Coding_Projects/GitHub/NMA-FacesHouses/data/output\""
   ]
  },
  {
   "cell_type": "code",
   "execution_count": 3,
   "metadata": {},
   "outputs": [],
   "source": [
    "import matplotlib.pyplot as plt\n",
    "from mpl_toolkits.axes_grid1 import make_axes_locatable\n",
    "\n",
    "def plot_generalizing_score(ax, scores, times, title, metric, scaling=None, chance=0.5, p=None, tail=0, verbose=False,\n",
    "                            mask_mode=\"contour\", interpolation='antialiased', n_jobs=None):\n",
    "    \"\"\"Plot generalizing searchlight analysis.\n",
    "    Parameters\n",
    "    ----------\n",
    "    ax : matplotlib.pyplot.Axes\n",
    "        Axes to use for plotting.\n",
    "    scores : numpy.ndarray of shape (n_subjects, nd_computations, n_times, n_times)\n",
    "        Scores of generalizing estimator for each subject. Subjects and computations are combined to compute variance.\n",
    "    times : numpy.ArrayLike of shape n_times\n",
    "        Timepoints used in analysis.\n",
    "    title : str\n",
    "        Title to use for the axes.\n",
    "    metric : str\n",
    "        Name of metric used for scoring.\n",
    "    scaling : float, optional\n",
    "        Scalings to use for plot. Will be calculated from data if set to None (default).\n",
    "    chance : float, optional\n",
    "        Baseline chance to use. 0.5 is used as default.\n",
    "    p : float, optional\n",
    "        Significance level to use for testing. No testing of significance if set to None (default).\n",
    "    tail : typing.Literal[-1,0,1], optional\n",
    "        Direction of significance testing. -1 indicates one-tailed test for under-performance, 0 indicates testing of\n",
    "        both tails, and 1 is equivalent to -1 but for over-performance.\n",
    "    verbose : bool, optional\n",
    "        Verbosity. Set to False (default) to supress output.\n",
    "    mask_mode : Literal[\"fill\", \"contour\", \"both\"] : optional\n",
    "        Masking mode for significance. Must be one of \"contour\" (default), \"fill\", or \"both\".\n",
    "    interpolation : str, optional\n",
    "        Interpolation to use for plot. See `matplotlib.pyplot.imshow` for interpolation modes.\n",
    "    n_jobs : Union[Literal[-1], int, None], optional\n",
    "        Number of parallel jobs to run, set to -1 to use all cores. Defaults to None, with results in single threading.\n",
    "    Returns\n",
    "    -------\n",
    "        None\n",
    "    \"\"\"\n",
    "    scores = scores.reshape((-1, scores.shape[-1], scores.shape[-1]))  # Combine all observations into one dimension.\n",
    "    scores_mean = np.mean(scores, axis=0)\n",
    "    assert mask_mode.lower().strip() in [\"contour\", \"fill\", \"both\"], ValueError(\n",
    "        f'mask_mode must be one of \"contour\",  \"fill\", \"both\", not \"{mask_mode}\".')\n",
    "\n",
    "    if scaling is None:\n",
    "        scaling = np.max(np.abs(scores_mean - chance))\n",
    "\n",
    "    # Compute significance levels\n",
    "    if isinstance(p, float):\n",
    "        _, clusters, cluster_p_values, _ = mne.stats.permutation_cluster_1samp_test(scores - chance, out_type='mask',\n",
    "                                                                                    n_jobs=n_jobs, buffer_size=None,\n",
    "                                                                                    n_permutations=1024,\n",
    "                                                                                    threshold=None, tail=tail,\n",
    "                                                                                    verbose=False)\n",
    "        mask = np.zeros_like(scores_mean)\n",
    "        for c, p_val in zip(clusters, cluster_p_values):\n",
    "            if p_val <= p:\n",
    "                verbose and print(f\"Found cluster with p={p_val}\")\n",
    "                mask[c] = 1\n",
    "\n",
    "        if mask_mode.lower().strip() in [\"fill\", \"both\"]:\n",
    "            ax.imshow(scores_mean, interpolation=interpolation, origin='lower', cmap='gray',\n",
    "                      extent=times[[0, -1, 0, -1]],\n",
    "                      vmin=chance - scaling, vmax=chance + scaling)\n",
    "            im = ax.imshow(np.ma.masked_where((mask + 1) % 2, scores_mean), interpolation=interpolation, origin='lower',\n",
    "                           cmap='RdBu_r', extent=times[[0, -1, 0, -1]], vmin=chance - scaling, vmax=chance + scaling)\n",
    "        else:\n",
    "            im = ax.imshow(scores_mean, interpolation=interpolation, origin='lower', cmap='RdBu_r',\n",
    "                           extent=times[[0, -1, 0, -1]], vmin=chance - scaling, vmax=chance + scaling)\n",
    "        if mask_mode.lower().strip() in [\"contour\", \"both\"] and np.equal(mask, 1).any():\n",
    "            big_mask = np.kron(mask, np.ones((10, 10)))\n",
    "            ax.contour(big_mask, colors=[\"k\"], extent=times[[0, -1, 0, -1]],\n",
    "                       linewidths=[.75], corner_mask=False,\n",
    "                       antialiased=False, levels=[.5])\n",
    "    else:\n",
    "        im = ax.imshow(scores_mean, interpolation=interpolation, origin='lower', cmap='RdBu_r',\n",
    "                       extent=times[[0, -1, 0, -1]], vmin=chance - scaling, vmax=chance + scaling)\n",
    "\n",
    "    ax.set_xlabel('Testing Time (s)')\n",
    "    ax.set_ylabel('Training Time (s)')\n",
    "    ax.axvline(0, color='k')\n",
    "    ax.axhline(0, color='k')\n",
    "\n",
    "    # Set aspect of the main axes.\n",
    "    ax.set_aspect(1.)\n",
    "\n",
    "    # create new axes on the right and on the top of the current axes\n",
    "    divider = make_axes_locatable(ax)\n",
    "    # below height and pad are in inches\n",
    "    ax_top = divider.append_axes(\"top\", 1.2, pad=0., sharex=ax)\n",
    "    ax_right = divider.append_axes(\"right\", 1.2, pad=0., sharey=ax)\n",
    "\n",
    "    ax_top.set_title(title)\n",
    "\n",
    "    # make some labels invisible\n",
    "    ax_top.xaxis.set_tick_params(labeltop=False, labelbottom=False)\n",
    "    ax_right.yaxis.set_tick_params(labelright=False, labelleft=False)\n",
    "    ax_top.plot(times, np.mean(scores_mean[times >= 0, :], axis=0), color=\"k\", )\n",
    "    ax_right.plot(np.mean(scores_mean[:, times >= 0], axis=1), times, color=\"k\")\n",
    "    ax_top.set_ybound(chance - scaling, chance + scaling)\n",
    "    ax_right.set_xbound(chance - scaling, chance + scaling)\n",
    "    ax_top.axvline(0, color='k')\n",
    "    ax_right.axhline(0, color='k')\n",
    "    ax_right.axvline(chance, color='k', linestyle=\"--\")\n",
    "    ax_top.axhline(chance, color='k', linestyle=\"--\")\n",
    "\n",
    "    cbar = plt.colorbar(im, ax=ax, shrink=0.8, aspect=20)  # noqa\n",
    "    cbar.set_label(metric)"
   ]
  },
  {
   "cell_type": "code",
   "execution_count": 9,
   "metadata": {},
   "outputs": [
    {
     "data": {
      "application/vnd.jupyter.widget-view+json": {
       "model_id": "3d47843769ab4bdc9c2448e0e36fe452",
       "version_major": 2,
       "version_minor": 0
      },
      "text/plain": [
       "Subject:   0%|          | 0/7 [00:00<?, ?it/s]"
      ]
     },
     "metadata": {},
     "output_type": "display_data"
    },
    {
     "name": "stderr",
     "output_type": "stream",
     "text": [
      "/var/folders/_r/kcfrqwd143bfg9vx3jtb4l6w0000gs/T/ipykernel_1035/527690301.py:17: RuntimeWarning: The measurement information indicates a low-pass frequency of 200 Hz. The decim=20 parameter will result in a sampling frequency of 50 Hz, which can cause aliasing artifacts.\n",
      "  epochs.decimate(20)\n"
     ]
    },
    {
     "data": {
      "application/vnd.jupyter.widget-view+json": {
       "model_id": "d4d3fb2835e84819affa502a6214dab3",
       "version_major": 2,
       "version_minor": 0
      },
      "text/plain": [
       "  0%|          | Fitting GeneralizingEstimator : 0/51 [00:00<?,       ?it/s]"
      ]
     },
     "metadata": {},
     "output_type": "display_data"
    },
    {
     "data": {
      "application/vnd.jupyter.widget-view+json": {
       "model_id": "1d999f8d8db740d5a6dd6e185525586e",
       "version_major": 2,
       "version_minor": 0
      },
      "text/plain": [
       "  0%|          | Scoring GeneralizingEstimator : 0/2601 [00:00<?,       ?it/s]"
      ]
     },
     "metadata": {},
     "output_type": "display_data"
    },
    {
     "data": {
      "application/vnd.jupyter.widget-view+json": {
       "model_id": "893364d16c4444098ce8391ba1976640",
       "version_major": 2,
       "version_minor": 0
      },
      "text/plain": [
       "  0%|          | Fitting GeneralizingEstimator : 0/51 [00:00<?,       ?it/s]"
      ]
     },
     "metadata": {},
     "output_type": "display_data"
    },
    {
     "data": {
      "application/vnd.jupyter.widget-view+json": {
       "model_id": "8306b879c5fa482c9e43cb1780e5d3bc",
       "version_major": 2,
       "version_minor": 0
      },
      "text/plain": [
       "  0%|          | Scoring GeneralizingEstimator : 0/2601 [00:00<?,       ?it/s]"
      ]
     },
     "metadata": {},
     "output_type": "display_data"
    },
    {
     "data": {
      "application/vnd.jupyter.widget-view+json": {
       "model_id": "9d98a481651d4280aa90abb0cd19e77e",
       "version_major": 2,
       "version_minor": 0
      },
      "text/plain": [
       "  0%|          | Fitting GeneralizingEstimator : 0/51 [00:00<?,       ?it/s]"
      ]
     },
     "metadata": {},
     "output_type": "display_data"
    },
    {
     "data": {
      "application/vnd.jupyter.widget-view+json": {
       "model_id": "381997cf286f404583cde16343906df8",
       "version_major": 2,
       "version_minor": 0
      },
      "text/plain": [
       "  0%|          | Scoring GeneralizingEstimator : 0/2601 [00:00<?,       ?it/s]"
      ]
     },
     "metadata": {},
     "output_type": "display_data"
    },
    {
     "data": {
      "application/vnd.jupyter.widget-view+json": {
       "model_id": "2b6b4d0d6ec84d72a588683ba7ac0832",
       "version_major": 2,
       "version_minor": 0
      },
      "text/plain": [
       "  0%|          | Fitting GeneralizingEstimator : 0/51 [00:00<?,       ?it/s]"
      ]
     },
     "metadata": {},
     "output_type": "display_data"
    },
    {
     "data": {
      "application/vnd.jupyter.widget-view+json": {
       "model_id": "a4f68368bbbd443c96145af498f4e038",
       "version_major": 2,
       "version_minor": 0
      },
      "text/plain": [
       "  0%|          | Scoring GeneralizingEstimator : 0/2601 [00:00<?,       ?it/s]"
      ]
     },
     "metadata": {},
     "output_type": "display_data"
    },
    {
     "data": {
      "application/vnd.jupyter.widget-view+json": {
       "model_id": "2dde3e05fabd4befb0006e4273f249a3",
       "version_major": 2,
       "version_minor": 0
      },
      "text/plain": [
       "  0%|          | Fitting GeneralizingEstimator : 0/51 [00:00<?,       ?it/s]"
      ]
     },
     "metadata": {},
     "output_type": "display_data"
    },
    {
     "data": {
      "application/vnd.jupyter.widget-view+json": {
       "model_id": "1727137a3d154db4ae4ee975a6a1ce76",
       "version_major": 2,
       "version_minor": 0
      },
      "text/plain": [
       "  0%|          | Scoring GeneralizingEstimator : 0/2601 [00:00<?,       ?it/s]"
      ]
     },
     "metadata": {},
     "output_type": "display_data"
    },
    {
     "data": {
      "application/vnd.jupyter.widget-view+json": {
       "model_id": "d2b48f4cfa444eecb93b4ab9be590572",
       "version_major": 2,
       "version_minor": 0
      },
      "text/plain": [
       "  0%|          | Fitting GeneralizingEstimator : 0/51 [00:00<?,       ?it/s]"
      ]
     },
     "metadata": {},
     "output_type": "display_data"
    },
    {
     "data": {
      "application/vnd.jupyter.widget-view+json": {
       "model_id": "a79e9c69485a44d2a3a662d9bab31f01",
       "version_major": 2,
       "version_minor": 0
      },
      "text/plain": [
       "  0%|          | Scoring GeneralizingEstimator : 0/2601 [00:00<?,       ?it/s]"
      ]
     },
     "metadata": {},
     "output_type": "display_data"
    },
    {
     "name": "stderr",
     "output_type": "stream",
     "text": [
      "/var/folders/_r/kcfrqwd143bfg9vx3jtb4l6w0000gs/T/ipykernel_1035/527690301.py:17: RuntimeWarning: The measurement information indicates a low-pass frequency of 200 Hz. The decim=20 parameter will result in a sampling frequency of 50 Hz, which can cause aliasing artifacts.\n",
      "  epochs.decimate(20)\n"
     ]
    },
    {
     "data": {
      "application/vnd.jupyter.widget-view+json": {
       "model_id": "02d131489b30439db80e0c1ac7d99a53",
       "version_major": 2,
       "version_minor": 0
      },
      "text/plain": [
       "  0%|          | Fitting GeneralizingEstimator : 0/51 [00:00<?,       ?it/s]"
      ]
     },
     "metadata": {},
     "output_type": "display_data"
    },
    {
     "data": {
      "application/vnd.jupyter.widget-view+json": {
       "model_id": "2aa9c17979fc4392b49d24a6f4af2a84",
       "version_major": 2,
       "version_minor": 0
      },
      "text/plain": [
       "  0%|          | Scoring GeneralizingEstimator : 0/2601 [00:00<?,       ?it/s]"
      ]
     },
     "metadata": {},
     "output_type": "display_data"
    },
    {
     "data": {
      "application/vnd.jupyter.widget-view+json": {
       "model_id": "3fe8b8c740e746b69dcbffc13e8afce1",
       "version_major": 2,
       "version_minor": 0
      },
      "text/plain": [
       "  0%|          | Fitting GeneralizingEstimator : 0/51 [00:00<?,       ?it/s]"
      ]
     },
     "metadata": {},
     "output_type": "display_data"
    },
    {
     "data": {
      "application/vnd.jupyter.widget-view+json": {
       "model_id": "780e707a7ca94609a76be486060dbc17",
       "version_major": 2,
       "version_minor": 0
      },
      "text/plain": [
       "  0%|          | Scoring GeneralizingEstimator : 0/2601 [00:00<?,       ?it/s]"
      ]
     },
     "metadata": {},
     "output_type": "display_data"
    },
    {
     "data": {
      "application/vnd.jupyter.widget-view+json": {
       "model_id": "8bad5d9322744af2bb5b52a72848d5bf",
       "version_major": 2,
       "version_minor": 0
      },
      "text/plain": [
       "  0%|          | Fitting GeneralizingEstimator : 0/51 [00:00<?,       ?it/s]"
      ]
     },
     "metadata": {},
     "output_type": "display_data"
    },
    {
     "data": {
      "application/vnd.jupyter.widget-view+json": {
       "model_id": "357ae0ca93bc43a89a4ba84ffed626c0",
       "version_major": 2,
       "version_minor": 0
      },
      "text/plain": [
       "  0%|          | Scoring GeneralizingEstimator : 0/2601 [00:00<?,       ?it/s]"
      ]
     },
     "metadata": {},
     "output_type": "display_data"
    },
    {
     "data": {
      "application/vnd.jupyter.widget-view+json": {
       "model_id": "fbc51c1ba4264b70b220b73e27d8b640",
       "version_major": 2,
       "version_minor": 0
      },
      "text/plain": [
       "  0%|          | Fitting GeneralizingEstimator : 0/51 [00:00<?,       ?it/s]"
      ]
     },
     "metadata": {},
     "output_type": "display_data"
    },
    {
     "data": {
      "application/vnd.jupyter.widget-view+json": {
       "model_id": "c22b84ae58a541d0bdb3cbe937cfc231",
       "version_major": 2,
       "version_minor": 0
      },
      "text/plain": [
       "  0%|          | Scoring GeneralizingEstimator : 0/2601 [00:00<?,       ?it/s]"
      ]
     },
     "metadata": {},
     "output_type": "display_data"
    },
    {
     "data": {
      "application/vnd.jupyter.widget-view+json": {
       "model_id": "40e6730881bd430eb34dc306ab07e750",
       "version_major": 2,
       "version_minor": 0
      },
      "text/plain": [
       "  0%|          | Fitting GeneralizingEstimator : 0/51 [00:00<?,       ?it/s]"
      ]
     },
     "metadata": {},
     "output_type": "display_data"
    },
    {
     "data": {
      "application/vnd.jupyter.widget-view+json": {
       "model_id": "c719696c03e54ffea1846449cbaf7893",
       "version_major": 2,
       "version_minor": 0
      },
      "text/plain": [
       "  0%|          | Scoring GeneralizingEstimator : 0/2601 [00:00<?,       ?it/s]"
      ]
     },
     "metadata": {},
     "output_type": "display_data"
    },
    {
     "data": {
      "application/vnd.jupyter.widget-view+json": {
       "model_id": "3959810640914fcf93b9e2194ea62f3d",
       "version_major": 2,
       "version_minor": 0
      },
      "text/plain": [
       "  0%|          | Fitting GeneralizingEstimator : 0/51 [00:00<?,       ?it/s]"
      ]
     },
     "metadata": {},
     "output_type": "display_data"
    },
    {
     "data": {
      "application/vnd.jupyter.widget-view+json": {
       "model_id": "88fc8450ab1c43bdb102e0f91c3e1c99",
       "version_major": 2,
       "version_minor": 0
      },
      "text/plain": [
       "  0%|          | Scoring GeneralizingEstimator : 0/2601 [00:00<?,       ?it/s]"
      ]
     },
     "metadata": {},
     "output_type": "display_data"
    },
    {
     "name": "stderr",
     "output_type": "stream",
     "text": [
      "/var/folders/_r/kcfrqwd143bfg9vx3jtb4l6w0000gs/T/ipykernel_1035/527690301.py:17: RuntimeWarning: The measurement information indicates a low-pass frequency of 200 Hz. The decim=20 parameter will result in a sampling frequency of 50 Hz, which can cause aliasing artifacts.\n",
      "  epochs.decimate(20)\n"
     ]
    },
    {
     "data": {
      "application/vnd.jupyter.widget-view+json": {
       "model_id": "7f920e6d840e47e3bb4ef69d9ba52bff",
       "version_major": 2,
       "version_minor": 0
      },
      "text/plain": [
       "  0%|          | Fitting GeneralizingEstimator : 0/51 [00:00<?,       ?it/s]"
      ]
     },
     "metadata": {},
     "output_type": "display_data"
    },
    {
     "data": {
      "application/vnd.jupyter.widget-view+json": {
       "model_id": "6a42ba25cb3146b6a69086631b090f2e",
       "version_major": 2,
       "version_minor": 0
      },
      "text/plain": [
       "  0%|          | Scoring GeneralizingEstimator : 0/2601 [00:00<?,       ?it/s]"
      ]
     },
     "metadata": {},
     "output_type": "display_data"
    },
    {
     "data": {
      "application/vnd.jupyter.widget-view+json": {
       "model_id": "aefefcd0328244029c9e98916a0aad5c",
       "version_major": 2,
       "version_minor": 0
      },
      "text/plain": [
       "  0%|          | Fitting GeneralizingEstimator : 0/51 [00:00<?,       ?it/s]"
      ]
     },
     "metadata": {},
     "output_type": "display_data"
    },
    {
     "data": {
      "application/vnd.jupyter.widget-view+json": {
       "model_id": "bf95f70ce1e9428285658e2bef31da0a",
       "version_major": 2,
       "version_minor": 0
      },
      "text/plain": [
       "  0%|          | Scoring GeneralizingEstimator : 0/2601 [00:00<?,       ?it/s]"
      ]
     },
     "metadata": {},
     "output_type": "display_data"
    },
    {
     "data": {
      "application/vnd.jupyter.widget-view+json": {
       "model_id": "4f0f1f16148b4553980f4566e95d0c1c",
       "version_major": 2,
       "version_minor": 0
      },
      "text/plain": [
       "  0%|          | Fitting GeneralizingEstimator : 0/51 [00:00<?,       ?it/s]"
      ]
     },
     "metadata": {},
     "output_type": "display_data"
    },
    {
     "data": {
      "application/vnd.jupyter.widget-view+json": {
       "model_id": "5e460a50f4c34a2bb07a716a18b34e0c",
       "version_major": 2,
       "version_minor": 0
      },
      "text/plain": [
       "  0%|          | Scoring GeneralizingEstimator : 0/2601 [00:00<?,       ?it/s]"
      ]
     },
     "metadata": {},
     "output_type": "display_data"
    },
    {
     "data": {
      "application/vnd.jupyter.widget-view+json": {
       "model_id": "16fead19b66440028464f9799f4ef034",
       "version_major": 2,
       "version_minor": 0
      },
      "text/plain": [
       "  0%|          | Fitting GeneralizingEstimator : 0/51 [00:00<?,       ?it/s]"
      ]
     },
     "metadata": {},
     "output_type": "display_data"
    },
    {
     "data": {
      "application/vnd.jupyter.widget-view+json": {
       "model_id": "5b009cbe2ec74b6bb77823b08b7cdcef",
       "version_major": 2,
       "version_minor": 0
      },
      "text/plain": [
       "  0%|          | Scoring GeneralizingEstimator : 0/2601 [00:00<?,       ?it/s]"
      ]
     },
     "metadata": {},
     "output_type": "display_data"
    },
    {
     "data": {
      "application/vnd.jupyter.widget-view+json": {
       "model_id": "e1aefbf147394ed895b717535e05e386",
       "version_major": 2,
       "version_minor": 0
      },
      "text/plain": [
       "  0%|          | Fitting GeneralizingEstimator : 0/51 [00:00<?,       ?it/s]"
      ]
     },
     "metadata": {},
     "output_type": "display_data"
    },
    {
     "data": {
      "application/vnd.jupyter.widget-view+json": {
       "model_id": "7bf4b86768c84e39bab2df8dfe61fe58",
       "version_major": 2,
       "version_minor": 0
      },
      "text/plain": [
       "  0%|          | Scoring GeneralizingEstimator : 0/2601 [00:00<?,       ?it/s]"
      ]
     },
     "metadata": {},
     "output_type": "display_data"
    },
    {
     "data": {
      "application/vnd.jupyter.widget-view+json": {
       "model_id": "9a918fb657584a28bfe40e8b1d5cec31",
       "version_major": 2,
       "version_minor": 0
      },
      "text/plain": [
       "  0%|          | Fitting GeneralizingEstimator : 0/51 [00:00<?,       ?it/s]"
      ]
     },
     "metadata": {},
     "output_type": "display_data"
    },
    {
     "data": {
      "application/vnd.jupyter.widget-view+json": {
       "model_id": "b20a2e92717443e88b2f51ce30070cb2",
       "version_major": 2,
       "version_minor": 0
      },
      "text/plain": [
       "  0%|          | Scoring GeneralizingEstimator : 0/2601 [00:00<?,       ?it/s]"
      ]
     },
     "metadata": {},
     "output_type": "display_data"
    },
    {
     "name": "stderr",
     "output_type": "stream",
     "text": [
      "/var/folders/_r/kcfrqwd143bfg9vx3jtb4l6w0000gs/T/ipykernel_1035/527690301.py:17: RuntimeWarning: The measurement information indicates a low-pass frequency of 200 Hz. The decim=20 parameter will result in a sampling frequency of 50 Hz, which can cause aliasing artifacts.\n",
      "  epochs.decimate(20)\n"
     ]
    },
    {
     "data": {
      "application/vnd.jupyter.widget-view+json": {
       "model_id": "8cd339bb0ea548afba3e69158748196e",
       "version_major": 2,
       "version_minor": 0
      },
      "text/plain": [
       "  0%|          | Fitting GeneralizingEstimator : 0/51 [00:00<?,       ?it/s]"
      ]
     },
     "metadata": {},
     "output_type": "display_data"
    },
    {
     "data": {
      "application/vnd.jupyter.widget-view+json": {
       "model_id": "e9859c962a854b8c8d51bcd219cc3f12",
       "version_major": 2,
       "version_minor": 0
      },
      "text/plain": [
       "  0%|          | Scoring GeneralizingEstimator : 0/2601 [00:00<?,       ?it/s]"
      ]
     },
     "metadata": {},
     "output_type": "display_data"
    },
    {
     "data": {
      "application/vnd.jupyter.widget-view+json": {
       "model_id": "83d33808735248738bf33fb2c21060f9",
       "version_major": 2,
       "version_minor": 0
      },
      "text/plain": [
       "  0%|          | Fitting GeneralizingEstimator : 0/51 [00:00<?,       ?it/s]"
      ]
     },
     "metadata": {},
     "output_type": "display_data"
    },
    {
     "data": {
      "application/vnd.jupyter.widget-view+json": {
       "model_id": "c2ca8eac3265497c9ade04f4b0c43f93",
       "version_major": 2,
       "version_minor": 0
      },
      "text/plain": [
       "  0%|          | Scoring GeneralizingEstimator : 0/2601 [00:00<?,       ?it/s]"
      ]
     },
     "metadata": {},
     "output_type": "display_data"
    },
    {
     "data": {
      "application/vnd.jupyter.widget-view+json": {
       "model_id": "4f6452f9b3614eeb8f9eac13acdab720",
       "version_major": 2,
       "version_minor": 0
      },
      "text/plain": [
       "  0%|          | Fitting GeneralizingEstimator : 0/51 [00:00<?,       ?it/s]"
      ]
     },
     "metadata": {},
     "output_type": "display_data"
    },
    {
     "data": {
      "application/vnd.jupyter.widget-view+json": {
       "model_id": "c6a855e9e14048fc818aa815dc5b8c0d",
       "version_major": 2,
       "version_minor": 0
      },
      "text/plain": [
       "  0%|          | Scoring GeneralizingEstimator : 0/2601 [00:00<?,       ?it/s]"
      ]
     },
     "metadata": {},
     "output_type": "display_data"
    },
    {
     "data": {
      "application/vnd.jupyter.widget-view+json": {
       "model_id": "90fd793500b644f497d0ccfac8d63a51",
       "version_major": 2,
       "version_minor": 0
      },
      "text/plain": [
       "  0%|          | Fitting GeneralizingEstimator : 0/51 [00:00<?,       ?it/s]"
      ]
     },
     "metadata": {},
     "output_type": "display_data"
    },
    {
     "data": {
      "application/vnd.jupyter.widget-view+json": {
       "model_id": "c3a69c118a43468c83a3ae4b8c0a21ba",
       "version_major": 2,
       "version_minor": 0
      },
      "text/plain": [
       "  0%|          | Scoring GeneralizingEstimator : 0/2601 [00:00<?,       ?it/s]"
      ]
     },
     "metadata": {},
     "output_type": "display_data"
    },
    {
     "data": {
      "application/vnd.jupyter.widget-view+json": {
       "model_id": "4f3ecf0ef4994cbba63fc584f8f47923",
       "version_major": 2,
       "version_minor": 0
      },
      "text/plain": [
       "  0%|          | Fitting GeneralizingEstimator : 0/51 [00:00<?,       ?it/s]"
      ]
     },
     "metadata": {},
     "output_type": "display_data"
    },
    {
     "data": {
      "application/vnd.jupyter.widget-view+json": {
       "model_id": "6a66b870712b465ab5a8ff5a495e63a0",
       "version_major": 2,
       "version_minor": 0
      },
      "text/plain": [
       "  0%|          | Scoring GeneralizingEstimator : 0/2601 [00:00<?,       ?it/s]"
      ]
     },
     "metadata": {},
     "output_type": "display_data"
    },
    {
     "data": {
      "application/vnd.jupyter.widget-view+json": {
       "model_id": "d3aedf26c6c54f2cba5be7277dc9828d",
       "version_major": 2,
       "version_minor": 0
      },
      "text/plain": [
       "  0%|          | Fitting GeneralizingEstimator : 0/51 [00:00<?,       ?it/s]"
      ]
     },
     "metadata": {},
     "output_type": "display_data"
    },
    {
     "data": {
      "application/vnd.jupyter.widget-view+json": {
       "model_id": "29ac33d154594187824b968cf7e55f3f",
       "version_major": 2,
       "version_minor": 0
      },
      "text/plain": [
       "  0%|          | Scoring GeneralizingEstimator : 0/2601 [00:00<?,       ?it/s]"
      ]
     },
     "metadata": {},
     "output_type": "display_data"
    },
    {
     "name": "stderr",
     "output_type": "stream",
     "text": [
      "/var/folders/_r/kcfrqwd143bfg9vx3jtb4l6w0000gs/T/ipykernel_1035/527690301.py:17: RuntimeWarning: The measurement information indicates a low-pass frequency of 200 Hz. The decim=20 parameter will result in a sampling frequency of 50 Hz, which can cause aliasing artifacts.\n",
      "  epochs.decimate(20)\n"
     ]
    },
    {
     "data": {
      "application/vnd.jupyter.widget-view+json": {
       "model_id": "495957267bc249b69c9f097aa40a4439",
       "version_major": 2,
       "version_minor": 0
      },
      "text/plain": [
       "  0%|          | Fitting GeneralizingEstimator : 0/51 [00:00<?,       ?it/s]"
      ]
     },
     "metadata": {},
     "output_type": "display_data"
    },
    {
     "data": {
      "application/vnd.jupyter.widget-view+json": {
       "model_id": "cfaf6a29ea0c4a899191476fd187c797",
       "version_major": 2,
       "version_minor": 0
      },
      "text/plain": [
       "  0%|          | Scoring GeneralizingEstimator : 0/2601 [00:00<?,       ?it/s]"
      ]
     },
     "metadata": {},
     "output_type": "display_data"
    },
    {
     "data": {
      "application/vnd.jupyter.widget-view+json": {
       "model_id": "4ac4c29955ec4a39b2474bd575d2c10f",
       "version_major": 2,
       "version_minor": 0
      },
      "text/plain": [
       "  0%|          | Fitting GeneralizingEstimator : 0/51 [00:00<?,       ?it/s]"
      ]
     },
     "metadata": {},
     "output_type": "display_data"
    },
    {
     "data": {
      "application/vnd.jupyter.widget-view+json": {
       "model_id": "b06c89ecada740d6b4e8469330f6965d",
       "version_major": 2,
       "version_minor": 0
      },
      "text/plain": [
       "  0%|          | Scoring GeneralizingEstimator : 0/2601 [00:00<?,       ?it/s]"
      ]
     },
     "metadata": {},
     "output_type": "display_data"
    },
    {
     "data": {
      "application/vnd.jupyter.widget-view+json": {
       "model_id": "69838f9711474ae2996f7814c8abbf38",
       "version_major": 2,
       "version_minor": 0
      },
      "text/plain": [
       "  0%|          | Fitting GeneralizingEstimator : 0/51 [00:00<?,       ?it/s]"
      ]
     },
     "metadata": {},
     "output_type": "display_data"
    },
    {
     "data": {
      "application/vnd.jupyter.widget-view+json": {
       "model_id": "52220cce404c404f88629b7a2cb2416d",
       "version_major": 2,
       "version_minor": 0
      },
      "text/plain": [
       "  0%|          | Scoring GeneralizingEstimator : 0/2601 [00:00<?,       ?it/s]"
      ]
     },
     "metadata": {},
     "output_type": "display_data"
    },
    {
     "data": {
      "application/vnd.jupyter.widget-view+json": {
       "model_id": "a1ef1f7fa5d1477b8d49895c762b90a1",
       "version_major": 2,
       "version_minor": 0
      },
      "text/plain": [
       "  0%|          | Fitting GeneralizingEstimator : 0/51 [00:00<?,       ?it/s]"
      ]
     },
     "metadata": {},
     "output_type": "display_data"
    },
    {
     "data": {
      "application/vnd.jupyter.widget-view+json": {
       "model_id": "b92eadff73f64687a18e09c6749441c9",
       "version_major": 2,
       "version_minor": 0
      },
      "text/plain": [
       "  0%|          | Scoring GeneralizingEstimator : 0/2601 [00:00<?,       ?it/s]"
      ]
     },
     "metadata": {},
     "output_type": "display_data"
    },
    {
     "data": {
      "application/vnd.jupyter.widget-view+json": {
       "model_id": "6500de45f94c409ba057b2364b612bad",
       "version_major": 2,
       "version_minor": 0
      },
      "text/plain": [
       "  0%|          | Fitting GeneralizingEstimator : 0/51 [00:00<?,       ?it/s]"
      ]
     },
     "metadata": {},
     "output_type": "display_data"
    },
    {
     "data": {
      "application/vnd.jupyter.widget-view+json": {
       "model_id": "6564128deafb42a4965ddbc4f64ba376",
       "version_major": 2,
       "version_minor": 0
      },
      "text/plain": [
       "  0%|          | Scoring GeneralizingEstimator : 0/2601 [00:00<?,       ?it/s]"
      ]
     },
     "metadata": {},
     "output_type": "display_data"
    },
    {
     "data": {
      "application/vnd.jupyter.widget-view+json": {
       "model_id": "10626d3ea9654974a736ab1ca2ebc11f",
       "version_major": 2,
       "version_minor": 0
      },
      "text/plain": [
       "  0%|          | Fitting GeneralizingEstimator : 0/51 [00:00<?,       ?it/s]"
      ]
     },
     "metadata": {},
     "output_type": "display_data"
    },
    {
     "data": {
      "application/vnd.jupyter.widget-view+json": {
       "model_id": "9afb54505db54161864ee5a5df5020f4",
       "version_major": 2,
       "version_minor": 0
      },
      "text/plain": [
       "  0%|          | Scoring GeneralizingEstimator : 0/2601 [00:00<?,       ?it/s]"
      ]
     },
     "metadata": {},
     "output_type": "display_data"
    },
    {
     "name": "stderr",
     "output_type": "stream",
     "text": [
      "/var/folders/_r/kcfrqwd143bfg9vx3jtb4l6w0000gs/T/ipykernel_1035/527690301.py:17: RuntimeWarning: The measurement information indicates a low-pass frequency of 200 Hz. The decim=20 parameter will result in a sampling frequency of 50 Hz, which can cause aliasing artifacts.\n",
      "  epochs.decimate(20)\n"
     ]
    },
    {
     "data": {
      "application/vnd.jupyter.widget-view+json": {
       "model_id": "fb1205975251429e9492e607ed6f126b",
       "version_major": 2,
       "version_minor": 0
      },
      "text/plain": [
       "  0%|          | Fitting GeneralizingEstimator : 0/51 [00:00<?,       ?it/s]"
      ]
     },
     "metadata": {},
     "output_type": "display_data"
    },
    {
     "data": {
      "application/vnd.jupyter.widget-view+json": {
       "model_id": "9f61d6b1bdae4f459e1ec903ea05d659",
       "version_major": 2,
       "version_minor": 0
      },
      "text/plain": [
       "  0%|          | Scoring GeneralizingEstimator : 0/2601 [00:00<?,       ?it/s]"
      ]
     },
     "metadata": {},
     "output_type": "display_data"
    },
    {
     "data": {
      "application/vnd.jupyter.widget-view+json": {
       "model_id": "09c965b07d504624930191ac82fe4d6f",
       "version_major": 2,
       "version_minor": 0
      },
      "text/plain": [
       "  0%|          | Fitting GeneralizingEstimator : 0/51 [00:00<?,       ?it/s]"
      ]
     },
     "metadata": {},
     "output_type": "display_data"
    },
    {
     "data": {
      "application/vnd.jupyter.widget-view+json": {
       "model_id": "85ac13e3df6c415789eb409f70010fa8",
       "version_major": 2,
       "version_minor": 0
      },
      "text/plain": [
       "  0%|          | Scoring GeneralizingEstimator : 0/2601 [00:00<?,       ?it/s]"
      ]
     },
     "metadata": {},
     "output_type": "display_data"
    },
    {
     "data": {
      "application/vnd.jupyter.widget-view+json": {
       "model_id": "ef945c97f674476590920e578d901f32",
       "version_major": 2,
       "version_minor": 0
      },
      "text/plain": [
       "  0%|          | Fitting GeneralizingEstimator : 0/51 [00:00<?,       ?it/s]"
      ]
     },
     "metadata": {},
     "output_type": "display_data"
    },
    {
     "data": {
      "application/vnd.jupyter.widget-view+json": {
       "model_id": "9ddc89b708464426be637297aa1cade8",
       "version_major": 2,
       "version_minor": 0
      },
      "text/plain": [
       "  0%|          | Scoring GeneralizingEstimator : 0/2601 [00:00<?,       ?it/s]"
      ]
     },
     "metadata": {},
     "output_type": "display_data"
    },
    {
     "data": {
      "application/vnd.jupyter.widget-view+json": {
       "model_id": "ac565ed8995d4e3b92da4b604c86ec8e",
       "version_major": 2,
       "version_minor": 0
      },
      "text/plain": [
       "  0%|          | Fitting GeneralizingEstimator : 0/51 [00:00<?,       ?it/s]"
      ]
     },
     "metadata": {},
     "output_type": "display_data"
    },
    {
     "data": {
      "application/vnd.jupyter.widget-view+json": {
       "model_id": "e75e293a5929420a8483046fd2caf413",
       "version_major": 2,
       "version_minor": 0
      },
      "text/plain": [
       "  0%|          | Scoring GeneralizingEstimator : 0/2601 [00:00<?,       ?it/s]"
      ]
     },
     "metadata": {},
     "output_type": "display_data"
    },
    {
     "data": {
      "application/vnd.jupyter.widget-view+json": {
       "model_id": "8de75875d8964ccf88a6b79f072ee429",
       "version_major": 2,
       "version_minor": 0
      },
      "text/plain": [
       "  0%|          | Fitting GeneralizingEstimator : 0/51 [00:00<?,       ?it/s]"
      ]
     },
     "metadata": {},
     "output_type": "display_data"
    },
    {
     "data": {
      "application/vnd.jupyter.widget-view+json": {
       "model_id": "ed1deab4a1c040269a62e26ff8580f01",
       "version_major": 2,
       "version_minor": 0
      },
      "text/plain": [
       "  0%|          | Scoring GeneralizingEstimator : 0/2601 [00:00<?,       ?it/s]"
      ]
     },
     "metadata": {},
     "output_type": "display_data"
    },
    {
     "data": {
      "application/vnd.jupyter.widget-view+json": {
       "model_id": "9bc2d4a4ebb14355b217bd496858dec8",
       "version_major": 2,
       "version_minor": 0
      },
      "text/plain": [
       "  0%|          | Fitting GeneralizingEstimator : 0/51 [00:00<?,       ?it/s]"
      ]
     },
     "metadata": {},
     "output_type": "display_data"
    },
    {
     "data": {
      "application/vnd.jupyter.widget-view+json": {
       "model_id": "b932bf8297d4431fbdc0802544b50e33",
       "version_major": 2,
       "version_minor": 0
      },
      "text/plain": [
       "  0%|          | Scoring GeneralizingEstimator : 0/2601 [00:00<?,       ?it/s]"
      ]
     },
     "metadata": {},
     "output_type": "display_data"
    },
    {
     "name": "stderr",
     "output_type": "stream",
     "text": [
      "/var/folders/_r/kcfrqwd143bfg9vx3jtb4l6w0000gs/T/ipykernel_1035/527690301.py:17: RuntimeWarning: The measurement information indicates a low-pass frequency of 200 Hz. The decim=20 parameter will result in a sampling frequency of 50 Hz, which can cause aliasing artifacts.\n",
      "  epochs.decimate(20)\n"
     ]
    },
    {
     "data": {
      "application/vnd.jupyter.widget-view+json": {
       "model_id": "3cac5c9c0f154dccad33b11ac2a5dd3e",
       "version_major": 2,
       "version_minor": 0
      },
      "text/plain": [
       "  0%|          | Fitting GeneralizingEstimator : 0/51 [00:00<?,       ?it/s]"
      ]
     },
     "metadata": {},
     "output_type": "display_data"
    },
    {
     "data": {
      "application/vnd.jupyter.widget-view+json": {
       "model_id": "d3b09692e8184c47a1c2674efdb04dd6",
       "version_major": 2,
       "version_minor": 0
      },
      "text/plain": [
       "  0%|          | Scoring GeneralizingEstimator : 0/2601 [00:00<?,       ?it/s]"
      ]
     },
     "metadata": {},
     "output_type": "display_data"
    },
    {
     "data": {
      "application/vnd.jupyter.widget-view+json": {
       "model_id": "7be10fa68e34411ca1a9abfd67148523",
       "version_major": 2,
       "version_minor": 0
      },
      "text/plain": [
       "  0%|          | Fitting GeneralizingEstimator : 0/51 [00:00<?,       ?it/s]"
      ]
     },
     "metadata": {},
     "output_type": "display_data"
    },
    {
     "data": {
      "application/vnd.jupyter.widget-view+json": {
       "model_id": "499bf5c6c2d14759b45d6077ba9b7c5d",
       "version_major": 2,
       "version_minor": 0
      },
      "text/plain": [
       "  0%|          | Scoring GeneralizingEstimator : 0/2601 [00:00<?,       ?it/s]"
      ]
     },
     "metadata": {},
     "output_type": "display_data"
    },
    {
     "data": {
      "application/vnd.jupyter.widget-view+json": {
       "model_id": "f82923b095964eeaa2e0cd174f3cecea",
       "version_major": 2,
       "version_minor": 0
      },
      "text/plain": [
       "  0%|          | Fitting GeneralizingEstimator : 0/51 [00:00<?,       ?it/s]"
      ]
     },
     "metadata": {},
     "output_type": "display_data"
    },
    {
     "data": {
      "application/vnd.jupyter.widget-view+json": {
       "model_id": "78cc45a492454e2f8ea014bd4e355f7f",
       "version_major": 2,
       "version_minor": 0
      },
      "text/plain": [
       "  0%|          | Scoring GeneralizingEstimator : 0/2601 [00:00<?,       ?it/s]"
      ]
     },
     "metadata": {},
     "output_type": "display_data"
    },
    {
     "data": {
      "application/vnd.jupyter.widget-view+json": {
       "model_id": "d66fc4272b7c4e26b404b07be045783b",
       "version_major": 2,
       "version_minor": 0
      },
      "text/plain": [
       "  0%|          | Fitting GeneralizingEstimator : 0/51 [00:00<?,       ?it/s]"
      ]
     },
     "metadata": {},
     "output_type": "display_data"
    },
    {
     "data": {
      "application/vnd.jupyter.widget-view+json": {
       "model_id": "7a4185754b3b44908320ee04f97065c6",
       "version_major": 2,
       "version_minor": 0
      },
      "text/plain": [
       "  0%|          | Scoring GeneralizingEstimator : 0/2601 [00:00<?,       ?it/s]"
      ]
     },
     "metadata": {},
     "output_type": "display_data"
    },
    {
     "data": {
      "application/vnd.jupyter.widget-view+json": {
       "model_id": "89a3eb8b62754fd09ed19becc5bfb796",
       "version_major": 2,
       "version_minor": 0
      },
      "text/plain": [
       "  0%|          | Fitting GeneralizingEstimator : 0/51 [00:00<?,       ?it/s]"
      ]
     },
     "metadata": {},
     "output_type": "display_data"
    },
    {
     "data": {
      "application/vnd.jupyter.widget-view+json": {
       "model_id": "554bbf201edf46a887f43afdc6c1871c",
       "version_major": 2,
       "version_minor": 0
      },
      "text/plain": [
       "  0%|          | Scoring GeneralizingEstimator : 0/2601 [00:00<?,       ?it/s]"
      ]
     },
     "metadata": {},
     "output_type": "display_data"
    },
    {
     "data": {
      "application/vnd.jupyter.widget-view+json": {
       "model_id": "5b92e9f0b5d841da8ee4498c2b181bb9",
       "version_major": 2,
       "version_minor": 0
      },
      "text/plain": [
       "  0%|          | Fitting GeneralizingEstimator : 0/51 [00:00<?,       ?it/s]"
      ]
     },
     "metadata": {},
     "output_type": "display_data"
    },
    {
     "data": {
      "application/vnd.jupyter.widget-view+json": {
       "model_id": "4798d399b866432e9d7bf34ad608a4e8",
       "version_major": 2,
       "version_minor": 0
      },
      "text/plain": [
       "  0%|          | Scoring GeneralizingEstimator : 0/2601 [00:00<?,       ?it/s]"
      ]
     },
     "metadata": {},
     "output_type": "display_data"
    }
   ],
   "source": [
    "clean_scores = list()\n",
    "noisy_scores = list()\n",
    "\n",
    "dataset = \"amp\"\n",
    "\n",
    "for subject in tqdm([\"ap\", \"ca\", \"ha\", \"ja\", \"mv\", \"wc\", \"zt\"], desc=\"Subject\"):\n",
    "\n",
    "    with mne.use_log_level(\"WARNING\"):\n",
    "        if dataset == \"tfr\":\n",
    "            tfr = mne.time_frequency.read_tfrs(os.path.join(output_dir, \"tfr\", f\"{subject}-tfr.h5\"))[0]\n",
    "            X_clean, X_noisy = tfr[\"clean\"]._data.astype(np.float32), tfr[\"noisy\"]._data.astype(np.float32)\n",
    "            y_clean, y_noisy = tfr[\"clean\"].events[:, -1], tfr[\"noisy\"].events[:, -1] # Labels are in the last col\n",
    "\n",
    "            del tfr\n",
    "        else:\n",
    "            epochs = mne.read_epochs(os.path.join(output_dir, \"epoched\", f\"{subject}-epo.fif.gz\"))\n",
    "            epochs.decimate(20)\n",
    "            epochs.apply_baseline((-0.2,0))\n",
    "            X_clean, X_noisy = epochs[\"clean\"].get_data().astype(np.float32), epochs[\"noisy\"].get_data().astype(np.float32)\n",
    "            y_clean, y_noisy = epochs[\"clean\"].events[:, -1], epochs[\"noisy\"].events[:, -1] # Labels are in the last col\n",
    "\n",
    "    y_clean, y_noisy = LabelEncoder().fit_transform(y_clean), LabelEncoder().fit_transform(y_noisy)\n",
    "\n",
    "    pipe = make_pipeline(\n",
    "        #mne.decoding.Scaler(scalings=\"median\"),\n",
    "        mne.decoding.Vectorizer(),\n",
    "        RobustScaler(),\n",
    "        #SVC(kernel=\"liblinear\")\n",
    "        LogisticRegression(solver=\"liblinear\")\n",
    "    )\n",
    "\n",
    "    gle = mne.decoding.GeneralizingEstimator(pipe, scoring=\"balanced_accuracy\")\n",
    "    #gle=pipe\n",
    "\n",
    "    clean_scores.append(np.mean(mne.decoding.cross_val_multiscore(gle, X_clean, y_clean), axis=0))\n",
    "\n",
    "    gle.fit(X_clean, y_clean)\n",
    "    noisy_scores.append(gle.score(X_noisy, y_noisy))\n",
    "\n",
    "    del X_clean, X_noisy, y_clean, y_noisy"
   ]
  },
  {
   "cell_type": "code",
   "execution_count": 11,
   "metadata": {},
   "outputs": [
    {
     "data": {
      "image/png": "[encoded data removed]",
      "text/plain": [
       "<Figure size 1440x720 with 8 Axes>"
      ]
     },
     "metadata": {
      "needs_background": "light"
     },
     "output_type": "display_data"
    }
   ],
   "source": [
    "times = np.linspace(-200, 800, 51) / 1000     # Enter times in ms\n",
    "interpolation = \"antialiased\"\n",
    "chance = 1/2\n",
    "mask_mode = \"contour\"\n",
    "p = 0.05\n",
    "n_jobs = -1\n",
    "tail = 1\n",
    "metric = \"Accuracy\"\n",
    "subjects = \"all\"                             # Set to \"all\" to use all subjects, otherwise a list of indicies to use\n",
    "plot_noise_levels = False\n",
    "\n",
    "if subjects != \"all\":\n",
    "  clean_scores_tmp=np.array(clean_scores)[subjects,...]\n",
    "  noisy_scores_tmp=np.array(noisy_scores)[subjects,...]\n",
    "else:\n",
    "  clean_scores_tmp=np.array(clean_scores)\n",
    "  noisy_scores_tmp=np.array(noisy_scores)\n",
    "\n",
    "scaling = max(np.abs(clean_scores_tmp-chance).max(), np.abs(noisy_scores_tmp-chance).max())\n",
    "\n",
    "fig1, (ax1, ax2) = plt.subplots(1,2, figsize=(20,10))\n",
    "\n",
    "plot_generalizing_score(ax1, clean_scores_tmp, times, title=\"Cross-validation performance in clean condition\", scaling=scaling,\n",
    "                        metric=metric, p=p, tail=tail, n_jobs=n_jobs, mask_mode=mask_mode, interpolation=interpolation)\n",
    "plot_generalizing_score(ax2, noisy_scores_tmp, times, title=\"Generalization performance in noisy condition\", scaling=scaling,\n",
    "                        metric=metric, p=p, tail=tail, n_jobs=n_jobs, mask_mode=mask_mode, interpolation=interpolation)\n",
    "\n",
    "fig1.tight_layout()\n",
    "\n",
    "if plot_noise_levels:\n",
    "  if subject != \"all\":\n",
    "    noise_level_scores_tmp={k: v[subject,...] for k, v in noise_level_scores.items()}\n",
    "  else:\n",
    "    noise_level_scores_tmp=noise_level_scores\n",
    "  \n",
    "  fig2, axes = plt.subplots(1, n_noise_bins, figsize=(40, 10))\n",
    "\n",
    "  for (noise_level, scores), ax in zip(noise_level_scores_tmp.items(), axes):\n",
    "    plot_generalizing_score(ax, scores, times, title=f\"Generalization performance in {noise_level/100:02.1%} noise condition\", scaling=scaling,\n",
    "                      metric=metric, p=p, tail=tail, n_jobs=n_jobs, mask_mode=mask_mode, interpolation=interpolation)\n",
    "  \n",
    "  fig2.tight_layout()"
   ]
  },
  {
   "cell_type": "code",
   "execution_count": 12,
   "metadata": {},
   "outputs": [
    {
     "data": {
      "text/html": [
       "<div>\n",
       "<style scoped>\n",
       "    .dataframe tbody tr th:only-of-type {\n",
       "        vertical-align: middle;\n",
       "    }\n",
       "\n",
       "    .dataframe tbody tr th {\n",
       "        vertical-align: top;\n",
       "    }\n",
       "\n",
       "    .dataframe thead th {\n",
       "        text-align: right;\n",
       "    }\n",
       "</style>\n",
       "<table border=\"1\" class=\"dataframe\">\n",
       "  <thead>\n",
       "    <tr style=\"text-align: right;\">\n",
       "      <th></th>\n",
       "      <th>Unnamed: 0</th>\n",
       "      <th>trigger</th>\n",
       "      <th>noise_pct</th>\n",
       "      <th>keypress_face</th>\n",
       "      <th>rt</th>\n",
       "    </tr>\n",
       "  </thead>\n",
       "  <tbody>\n",
       "    <tr>\n",
       "      <th>0</th>\n",
       "      <td>0</td>\n",
       "      <td>1</td>\n",
       "      <td>NaN</td>\n",
       "      <td>None</td>\n",
       "      <td>None</td>\n",
       "    </tr>\n",
       "    <tr>\n",
       "      <th>1</th>\n",
       "      <td>1</td>\n",
       "      <td>2</td>\n",
       "      <td>NaN</td>\n",
       "      <td>None</td>\n",
       "      <td>None</td>\n",
       "    </tr>\n",
       "    <tr>\n",
       "      <th>2</th>\n",
       "      <td>2</td>\n",
       "      <td>2</td>\n",
       "      <td>NaN</td>\n",
       "      <td>None</td>\n",
       "      <td>None</td>\n",
       "    </tr>\n",
       "    <tr>\n",
       "      <th>3</th>\n",
       "      <td>3</td>\n",
       "      <td>2</td>\n",
       "      <td>NaN</td>\n",
       "      <td>None</td>\n",
       "      <td>None</td>\n",
       "    </tr>\n",
       "    <tr>\n",
       "      <th>4</th>\n",
       "      <td>4</td>\n",
       "      <td>1</td>\n",
       "      <td>NaN</td>\n",
       "      <td>None</td>\n",
       "      <td>None</td>\n",
       "    </tr>\n",
       "    <tr>\n",
       "      <th>...</th>\n",
       "      <td>...</td>\n",
       "      <td>...</td>\n",
       "      <td>...</td>\n",
       "      <td>...</td>\n",
       "      <td>...</td>\n",
       "    </tr>\n",
       "    <tr>\n",
       "      <th>925</th>\n",
       "      <td>625</td>\n",
       "      <td>12</td>\n",
       "      <td>50.0</td>\n",
       "      <td>False</td>\n",
       "      <td>None</td>\n",
       "    </tr>\n",
       "    <tr>\n",
       "      <th>926</th>\n",
       "      <td>626</td>\n",
       "      <td>11</td>\n",
       "      <td>60.0</td>\n",
       "      <td>False</td>\n",
       "      <td>None</td>\n",
       "    </tr>\n",
       "    <tr>\n",
       "      <th>927</th>\n",
       "      <td>627</td>\n",
       "      <td>12</td>\n",
       "      <td>40.0</td>\n",
       "      <td>False</td>\n",
       "      <td>None</td>\n",
       "    </tr>\n",
       "    <tr>\n",
       "      <th>928</th>\n",
       "      <td>628</td>\n",
       "      <td>11</td>\n",
       "      <td>75.0</td>\n",
       "      <td>False</td>\n",
       "      <td>None</td>\n",
       "    </tr>\n",
       "    <tr>\n",
       "      <th>929</th>\n",
       "      <td>629</td>\n",
       "      <td>11</td>\n",
       "      <td>80.0</td>\n",
       "      <td>False</td>\n",
       "      <td>None</td>\n",
       "    </tr>\n",
       "  </tbody>\n",
       "</table>\n",
       "<p>916 rows × 5 columns</p>\n",
       "</div>"
      ],
      "text/plain": [
       "     Unnamed: 0  trigger  noise_pct keypress_face    rt\n",
       "0             0        1        NaN          None  None\n",
       "1             1        2        NaN          None  None\n",
       "2             2        2        NaN          None  None\n",
       "3             3        2        NaN          None  None\n",
       "4             4        1        NaN          None  None\n",
       "..          ...      ...        ...           ...   ...\n",
       "925         625       12       50.0         False  None\n",
       "926         626       11       60.0         False  None\n",
       "927         627       12       40.0         False  None\n",
       "928         628       11       75.0         False  None\n",
       "929         629       11       80.0         False  None\n",
       "\n",
       "[916 rows x 5 columns]"
      ]
     },
     "execution_count": 12,
     "metadata": {},
     "output_type": "execute_result"
    }
   ],
   "source": [
    "epochs.metadata"
   ]
  },
  {
   "cell_type": "code",
   "execution_count": null,
   "metadata": {},
   "outputs": [],
   "source": []
  }
 ],
 "metadata": {
  "kernelspec": {
   "display_name": "Python 3.10.5 ('mne')",
   "language": "python",
   "name": "python3"
  },
  "language_info": {
   "codemirror_mode": {
    "name": "ipython",
    "version": 3
   },
   "file_extension": ".py",
   "mimetype": "text/x-python",
   "name": "python",
   "nbconvert_exporter": "python",
   "pygments_lexer": "ipython3",
   "version": "3.10.5"
  },
  "orig_nbformat": 4,
  "vscode": {
   "interpreter": {
    "hash": "c2cb02d829723eaaf3cf37d196c4d6c75a8cfc16de9c3a2392ec25bc684c670d"
   }
  }
 },
 "nbformat": 4,
 "nbformat_minor": 2
}

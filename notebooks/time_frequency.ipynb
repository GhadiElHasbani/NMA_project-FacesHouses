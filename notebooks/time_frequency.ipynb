{
 "cells": [
  {
   "cell_type": "code",
   "execution_count": 7,
   "id": "70ed73aa-d2b8-41df-a853-185ddc964363",
   "metadata": {},
   "outputs": [],
   "source": [
    "import mne\n",
    "import mne_bids\n",
    "import numpy as np"
   ]
  },
  {
   "cell_type": "code",
   "execution_count": 2,
   "id": "72696016-ed79-433b-9963-626cf70a8653",
   "metadata": {},
   "outputs": [],
   "source": [
    "output_dir = \"/Users/daniel/Documents/Coding_Projects/GitHub/NMA-FacesHouses/data/output\"\n",
    "subjects_dir = \"/Users/daniel/Documents/Coding_Projects/GitHub/NMA-FacesHouses/data/fs_subjects\"\n",
    "subjects = [\"zt\"]"
   ]
  },
  {
   "cell_type": "code",
   "execution_count": 4,
   "id": "0ad9799b-d2a4-4a0e-a484-b4e49814cbbb",
   "metadata": {},
   "outputs": [
    {
     "name": "stdout",
     "output_type": "stream",
     "text": [
      "Reading /Users/daniel/Documents/Coding_Projects/GitHub/NMA-FacesHouses/data/output/epoched/zt-epo.fif.gz ...\n",
      "    Found the data of interest:\n",
      "        t =    -200.00 ...     800.00 ms\n",
      "        0 CTF compensation matrices available\n",
      "0 bad epochs dropped\n",
      "Not setting metadata\n",
      "930 matching events found\n",
      "No baseline correction applied\n",
      "0 projection items activated\n"
     ]
    }
   ],
   "source": [
    "for subject in subjects:\n",
    "    epochs = mne.read_epochs(f\"{output_dir}/epoched/{subject}-epo.fif.gz\")\n",
    "    "
   ]
  },
  {
   "cell_type": "code",
   "execution_count": 8,
   "id": "67b9ab37-f3d3-4196-979a-c4006e977278",
   "metadata": {},
   "outputs": [
    {
     "ename": "ValueError",
     "evalue": "Cannot compute freq above Nyquist freq of the data (500.0 Hz), got 99999999999999996973312221251036165947450327545502362648241750950346848435554075534196338404706251868027512415973882408182135734368278484639385041047239877871023591066789981811181813306167128854888448.0 Hz",
     "output_type": "error",
     "traceback": [
      "\u001b[0;31m---------------------------------------------------------------------------\u001b[0m",
      "\u001b[0;31mValueError\u001b[0m                                Traceback (most recent call last)",
      "Input \u001b[0;32mIn [8]\u001b[0m, in \u001b[0;36m<cell line: 3>\u001b[0;34m()\u001b[0m\n\u001b[1;32m      1\u001b[0m freqs \u001b[38;5;241m=\u001b[39m np\u001b[38;5;241m.\u001b[39mlogspace(\u001b[38;5;241m1\u001b[39m, \u001b[38;5;241m200\u001b[39m, \u001b[38;5;241m20\u001b[39m)\n\u001b[0;32m----> 3\u001b[0m tfr \u001b[38;5;241m=\u001b[39m \u001b[43mmne\u001b[49m\u001b[38;5;241;43m.\u001b[39;49m\u001b[43mtime_frequency\u001b[49m\u001b[38;5;241;43m.\u001b[39;49m\u001b[43mtfr_multitaper\u001b[49m\u001b[43m(\u001b[49m\u001b[43mepochs\u001b[49m\u001b[43m,\u001b[49m\u001b[43m \u001b[49m\u001b[43mfreqs\u001b[49m\u001b[43m,\u001b[49m\u001b[43m \u001b[49m\u001b[43mfreqs\u001b[49m\u001b[38;5;241;43m/\u001b[39;49m\u001b[38;5;241;43m2.\u001b[39;49m\u001b[43m,\u001b[49m\u001b[43m \u001b[49m\u001b[43mdecim\u001b[49m\u001b[38;5;241;43m=\u001b[39;49m\u001b[38;5;241;43m20\u001b[39;49m\u001b[43m)\u001b[49m\n",
      "File \u001b[0;32m<decorator-gen-121>:12\u001b[0m, in \u001b[0;36mtfr_multitaper\u001b[0;34m(inst, freqs, n_cycles, time_bandwidth, use_fft, return_itc, decim, n_jobs, picks, average, verbose)\u001b[0m\n",
      "File \u001b[0;32m~/miniconda3/envs/mne/lib/python3.10/site-packages/mne/time_frequency/tfr.py:898\u001b[0m, in \u001b[0;36mtfr_multitaper\u001b[0;34m(inst, freqs, n_cycles, time_bandwidth, use_fft, return_itc, decim, n_jobs, picks, average, verbose)\u001b[0m\n\u001b[1;32m    837\u001b[0m \u001b[38;5;124;03m\"\"\"Compute Time-Frequency Representation (TFR) using DPSS tapers.\u001b[39;00m\n\u001b[1;32m    838\u001b[0m \n\u001b[1;32m    839\u001b[0m \u001b[38;5;124;03mSame computation as `~mne.time_frequency.tfr_array_multitaper`, but\u001b[39;00m\n\u001b[0;32m   (...)\u001b[0m\n\u001b[1;32m    894\u001b[0m \u001b[38;5;124;03m.. versionadded:: 0.9.0\u001b[39;00m\n\u001b[1;32m    895\u001b[0m \u001b[38;5;124;03m\"\"\"\u001b[39;00m\n\u001b[1;32m    896\u001b[0m tfr_params \u001b[38;5;241m=\u001b[39m \u001b[38;5;28mdict\u001b[39m(n_cycles\u001b[38;5;241m=\u001b[39mn_cycles, n_jobs\u001b[38;5;241m=\u001b[39mn_jobs, use_fft\u001b[38;5;241m=\u001b[39muse_fft,\n\u001b[1;32m    897\u001b[0m                   zero_mean\u001b[38;5;241m=\u001b[39m\u001b[38;5;28;01mTrue\u001b[39;00m, time_bandwidth\u001b[38;5;241m=\u001b[39mtime_bandwidth)\n\u001b[0;32m--> 898\u001b[0m \u001b[38;5;28;01mreturn\u001b[39;00m \u001b[43m_tfr_aux\u001b[49m\u001b[43m(\u001b[49m\u001b[38;5;124;43m'\u001b[39;49m\u001b[38;5;124;43mmultitaper\u001b[39;49m\u001b[38;5;124;43m'\u001b[39;49m\u001b[43m,\u001b[49m\u001b[43m \u001b[49m\u001b[43minst\u001b[49m\u001b[43m,\u001b[49m\u001b[43m \u001b[49m\u001b[43mfreqs\u001b[49m\u001b[43m,\u001b[49m\u001b[43m \u001b[49m\u001b[43mdecim\u001b[49m\u001b[43m,\u001b[49m\u001b[43m \u001b[49m\u001b[43mreturn_itc\u001b[49m\u001b[43m,\u001b[49m\u001b[43m \u001b[49m\u001b[43mpicks\u001b[49m\u001b[43m,\u001b[49m\n\u001b[1;32m    899\u001b[0m \u001b[43m                \u001b[49m\u001b[43maverage\u001b[49m\u001b[43m,\u001b[49m\u001b[43m \u001b[49m\u001b[38;5;241;43m*\u001b[39;49m\u001b[38;5;241;43m*\u001b[39;49m\u001b[43mtfr_params\u001b[49m\u001b[43m)\u001b[49m\n",
      "File \u001b[0;32m~/miniconda3/envs/mne/lib/python3.10/site-packages/mne/time_frequency/tfr.py:654\u001b[0m, in \u001b[0;36m_tfr_aux\u001b[0;34m(***failed resolving arguments***)\u001b[0m\n\u001b[1;32m    650\u001b[0m     \u001b[38;5;28;01mif\u001b[39;00m return_itc:\n\u001b[1;32m    651\u001b[0m         \u001b[38;5;28;01mraise\u001b[39;00m \u001b[38;5;167;01mValueError\u001b[39;00m(\u001b[38;5;124m'\u001b[39m\u001b[38;5;124mInter-trial coherence is not supported\u001b[39m\u001b[38;5;124m'\u001b[39m\n\u001b[1;32m    652\u001b[0m                          \u001b[38;5;124m'\u001b[39m\u001b[38;5;124m with average=False\u001b[39m\u001b[38;5;124m'\u001b[39m)\n\u001b[0;32m--> 654\u001b[0m out \u001b[38;5;241m=\u001b[39m \u001b[43m_compute_tfr\u001b[49m\u001b[43m(\u001b[49m\u001b[43mdata\u001b[49m\u001b[43m,\u001b[49m\u001b[43m \u001b[49m\u001b[43mfreqs\u001b[49m\u001b[43m,\u001b[49m\u001b[43m \u001b[49m\u001b[43minfo\u001b[49m\u001b[43m[\u001b[49m\u001b[38;5;124;43m'\u001b[39;49m\u001b[38;5;124;43msfreq\u001b[39;49m\u001b[38;5;124;43m'\u001b[39;49m\u001b[43m]\u001b[49m\u001b[43m,\u001b[49m\u001b[43m \u001b[49m\u001b[43mmethod\u001b[49m\u001b[38;5;241;43m=\u001b[39;49m\u001b[43mmethod\u001b[49m\u001b[43m,\u001b[49m\n\u001b[1;32m    655\u001b[0m \u001b[43m                   \u001b[49m\u001b[43moutput\u001b[49m\u001b[38;5;241;43m=\u001b[39;49m\u001b[43moutput\u001b[49m\u001b[43m,\u001b[49m\u001b[43m \u001b[49m\u001b[43mdecim\u001b[49m\u001b[38;5;241;43m=\u001b[39;49m\u001b[43mdecim\u001b[49m\u001b[43m,\u001b[49m\u001b[43m \u001b[49m\u001b[38;5;241;43m*\u001b[39;49m\u001b[38;5;241;43m*\u001b[39;49m\u001b[43mtfr_params\u001b[49m\u001b[43m)\u001b[49m\n\u001b[1;32m    656\u001b[0m times \u001b[38;5;241m=\u001b[39m inst\u001b[38;5;241m.\u001b[39mtimes[decim]\u001b[38;5;241m.\u001b[39mcopy()\n\u001b[1;32m    657\u001b[0m \u001b[38;5;28;01mwith\u001b[39;00m info\u001b[38;5;241m.\u001b[39m_unlock():\n",
      "File \u001b[0;32m~/miniconda3/envs/mne/lib/python3.10/site-packages/mne/time_frequency/tfr.py:355\u001b[0m, in \u001b[0;36m_compute_tfr\u001b[0;34m(epoch_data, freqs, sfreq, method, n_cycles, zero_mean, time_bandwidth, use_fft, decim, output, n_jobs, verbose)\u001b[0m\n\u001b[1;32m    353\u001b[0m decim \u001b[38;5;241m=\u001b[39m _check_decim(decim)\n\u001b[1;32m    354\u001b[0m \u001b[38;5;28;01mif\u001b[39;00m (freqs \u001b[38;5;241m>\u001b[39m sfreq \u001b[38;5;241m/\u001b[39m \u001b[38;5;241m2.\u001b[39m)\u001b[38;5;241m.\u001b[39many():\n\u001b[0;32m--> 355\u001b[0m     \u001b[38;5;28;01mraise\u001b[39;00m \u001b[38;5;167;01mValueError\u001b[39;00m(\u001b[38;5;124m'\u001b[39m\u001b[38;5;124mCannot compute freq above Nyquist freq of the data \u001b[39m\u001b[38;5;124m'\u001b[39m\n\u001b[1;32m    356\u001b[0m                      \u001b[38;5;124m'\u001b[39m\u001b[38;5;124m(\u001b[39m\u001b[38;5;132;01m%0.1f\u001b[39;00m\u001b[38;5;124m Hz), got \u001b[39m\u001b[38;5;132;01m%0.1f\u001b[39;00m\u001b[38;5;124m Hz\u001b[39m\u001b[38;5;124m'\u001b[39m\n\u001b[1;32m    357\u001b[0m                      \u001b[38;5;241m%\u001b[39m (sfreq \u001b[38;5;241m/\u001b[39m \u001b[38;5;241m2.\u001b[39m, freqs\u001b[38;5;241m.\u001b[39mmax()))\n\u001b[1;32m    359\u001b[0m \u001b[38;5;66;03m# We decimate *after* decomposition, so we need to create our kernels\u001b[39;00m\n\u001b[1;32m    360\u001b[0m \u001b[38;5;66;03m# for the original sfreq\u001b[39;00m\n\u001b[1;32m    361\u001b[0m \u001b[38;5;28;01mif\u001b[39;00m method \u001b[38;5;241m==\u001b[39m \u001b[38;5;124m'\u001b[39m\u001b[38;5;124mmorlet\u001b[39m\u001b[38;5;124m'\u001b[39m:\n",
      "\u001b[0;31mValueError\u001b[0m: Cannot compute freq above Nyquist freq of the data (500.0 Hz), got 99999999999999996973312221251036165947450327545502362648241750950346848435554075534196338404706251868027512415973882408182135734368278484639385041047239877871023591066789981811181813306167128854888448.0 Hz"
     ]
    }
   ],
   "source": [
    "freqs = np.logspace(1, 200, 20)\n",
    "\n",
    "tfr = mne.time_frequency.tfr_multitaper(epochs, freqs, freqs/2., decim=20)"
   ]
  },
  {
   "cell_type": "code",
   "execution_count": null,
   "id": "fb672450",
   "metadata": {},
   "outputs": [],
   "source": []
  }
 ],
 "metadata": {
  "kernelspec": {
   "display_name": "Python 3 (ipykernel)",
   "language": "python",
   "name": "python3"
  },
  "language_info": {
   "codemirror_mode": {
    "name": "ipython",
    "version": 3
   },
   "file_extension": ".py",
   "mimetype": "text/x-python",
   "name": "python",
   "nbconvert_exporter": "python",
   "pygments_lexer": "ipython3",
   "version": "3.10.5"
  }
 },
 "nbformat": 4,
 "nbformat_minor": 5
}

{
 "cells": [
  {
   "cell_type": "code",
   "execution_count": null,
   "metadata": {
    "collapsed": false,
    "pycharm": {
     "name": "#%%\n"
    }
   },
   "outputs": [],
   "source": [
    "import mne\n",
    "import mne_bids\n",
    "\n",
    "%matplotlib qt"
   ]
  },
  {
   "cell_type": "code",
   "execution_count": null,
   "metadata": {
    "collapsed": false,
    "pycharm": {
     "name": "#%%\n"
    }
   },
   "outputs": [],
   "source": [
    "bids_root = \"/Users/daniel/Documents/Coding_Projects/GitHub/NMA-FacesHouses/data/BIDS\"\n",
    "subjects_dir = \"/Users/daniel/Documents/Coding_Projects/GitHub/NMA-FacesHouses/data/fs_subjects\"\n",
    "\n",
    "subject = \"ap\"\n",
    "\n",
    "path = mne_bids.BIDSPath(root=bids_root, subject=subject, session=\"01\", task=\"clean\", datatype=\"ieeg\")\n",
    "raw = mne_bids.read_raw_bids(path)"
   ]
  },
  {
   "cell_type": "code",
   "execution_count": null,
   "metadata": {
    "collapsed": false,
    "pycharm": {
     "name": "#%%\n"
    }
   },
   "outputs": [],
   "source": [
    "# the coordinate frame of the montage\n",
    "montage = raw.get_montage()\n",
    "print(montage.get_positions()['coord_frame'])\n",
    "\n",
    "# add fiducials to montage\n",
    "montage.add_estimated_fiducials(f\"{subjects_dir}/{subject}\")\n",
    "\n",
    "trans = mne.channels.compute_native_head_t(montage)\n",
    "\n",
    "# now with fiducials assigned, the montage will be properly converted\n",
    "# to \"head\" which is what MNE requires internally (this is the coordinate\n",
    "# system with the origin between LPA and RPA whereas MNI has the origin\n",
    "# at the posterior commissure)\n",
    "raw.set_montage(montage)"
   ]
  },
  {
   "cell_type": "code",
   "execution_count": null,
   "metadata": {
    "collapsed": false,
    "pycharm": {
     "name": "#%%\n"
    }
   },
   "outputs": [],
   "source": [
    "mne.viz.plot_alignment(raw.info, subject=subject, subjects_dir=subjects_dir, trans=mne.coreg.estimate_head_mri_t(subject, subjects_dir),\n",
    "                       surfaces={\"pial\":0.8}, coord_frame=\"mri\", ecog=True, dig=\"fiducials\")"
   ]
  },
  {
   "cell_type": "code",
   "execution_count": null,
   "metadata": {
    "collapsed": false,
    "pycharm": {
     "name": "#%%\n"
    }
   },
   "outputs": [],
   "source": [
    "Brain = mne.viz.get_brain_class()\n",
    "brain = Brain(subject, hemi='lh', surf='pial', \n",
    "              subjects_dir=subjects_dir, size=(800, 600))\n",
    "brain.add_annotation('aparc.a2009s', borders=False)"
   ]
  },
  {
   "cell_type": "code",
   "execution_count": null,
   "metadata": {
    "collapsed": false,
    "pycharm": {
     "name": "#%%\n"
    }
   },
   "outputs": [],
   "source": [
    "mne.setup_source_space(subject, spacing=\"oct6\", subjects_dir=subjects_dir, n_jobs=-1)"
   ]
  },
  {
   "cell_type": "code",
   "execution_count": 30,
   "metadata": {
    "collapsed": false,
    "jupyter": {
     "outputs_hidden": false
    },
    "pycharm": {
     "name": "#%%\n"
    }
   },
   "outputs": [
    {
     "name": "stdout",
     "output_type": "stream",
     "text": [
      "Channel types::\tecog: 41\n"
     ]
    },
    {
     "data": {
      "text/plain": [
       "<mne.viz.backends._pyvista.PyVistaFigure at 0x16f143310>"
      ]
     },
     "execution_count": 30,
     "metadata": {},
     "output_type": "execute_result"
    }
   ],
   "source": [
    "mne.viz.plot_alignment(raw.info, subject=subject, subjects_dir=subjects_dir, trans=mne.coreg.estimate_head_mri_t(subject, subjects_dir),\n",
    "                       surfaces={\"pial\":0.8}, coord_frame=\"mri\", ecog=True, dig=\"fiducials\")"
   ]
  },
  {
   "cell_type": "code",
   "execution_count": 33,
   "metadata": {},
   "outputs": [],
   "source": [
    "Brain = mne.viz.get_brain_class()\n",
    "brain = Brain(subject, hemi='lh', surf='pial', \n",
    "              subjects_dir=subjects_dir, size=(800, 600))\n",
    "brain.add_annotation('aparc.a2009s', borders=False)"
   ]
  },
  {
   "cell_type": "code",
   "execution_count": 37,
   "metadata": {},
   "outputs": [
    {
     "name": "stdout",
     "output_type": "stream",
     "text": [
      "Setting up the source space with the following parameters:\n",
      "\n",
      "SUBJECTS_DIR = /Users/daniel/Documents/Coding_Projects/GitHub/NMA-FacesHouses/data/fs_subjects\n",
      "Subject      = ap\n",
      "Surface      = white\n",
      "Octahedron subdivision grade 6\n",
      "\n",
      ">>> 1. Creating the source space...\n",
      "\n",
      "Doing the octahedral vertex picking...\n",
      "Loading /Users/daniel/Documents/Coding_Projects/GitHub/NMA-FacesHouses/data/fs_subjects/ap/surf/lh.white...\n",
      "Mapping lh ap -> oct (6) ...\n",
      "    Triangle neighbors and vertex normals...\n",
      "Loading geometry from /Users/daniel/Documents/Coding_Projects/GitHub/NMA-FacesHouses/data/fs_subjects/ap/surf/lh.sphere...\n",
      "Setting up the triangulation for the decimated surface...\n",
      "loaded lh.white 4098/127307 selected to source space (oct = 6)\n",
      "\n",
      "Loading /Users/daniel/Documents/Coding_Projects/GitHub/NMA-FacesHouses/data/fs_subjects/ap/surf/rh.white...\n",
      "Mapping rh ap -> oct (6) ...\n",
      "    Triangle neighbors and vertex normals...\n",
      "Loading geometry from /Users/daniel/Documents/Coding_Projects/GitHub/NMA-FacesHouses/data/fs_subjects/ap/surf/rh.sphere...\n",
      "Setting up the triangulation for the decimated surface...\n",
      "loaded rh.white 4098/128801 selected to source space (oct = 6)\n",
      "\n",
      "Calculating source space distances (limit=inf mm)...\n"
     ]
    },
    {
     "name": "stderr",
     "output_type": "stream",
     "text": [
      "[Parallel(n_jobs=4)]: Using backend LokyBackend with 4 concurrent workers.\n",
      "[Parallel(n_jobs=4)]: Done   2 out of   4 | elapsed:  1.7min remaining:  1.7min\n",
      "[Parallel(n_jobs=4)]: Done   4 out of   4 | elapsed:  1.7min remaining:    0.0s\n",
      "[Parallel(n_jobs=4)]: Done   4 out of   4 | elapsed:  1.7min finished\n",
      "[Parallel(n_jobs=4)]: Using backend LokyBackend with 4 concurrent workers.\n",
      "[Parallel(n_jobs=4)]: Done   2 out of   4 | elapsed:  1.6min remaining:  1.6min\n",
      "[Parallel(n_jobs=4)]: Done   4 out of   4 | elapsed:  1.7min remaining:    0.0s\n",
      "[Parallel(n_jobs=4)]: Done   4 out of   4 | elapsed:  1.7min finished\n"
     ]
    },
    {
     "name": "stdout",
     "output_type": "stream",
     "text": [
      "    Computing patch statistics...\n",
      "    Patch information added...\n",
      "    Computing patch statistics...\n",
      "    Patch information added...\n",
      "You are now one step closer to computing the gain matrix\n"
     ]
    },
    {
     "data": {
      "text/plain": [
       "<SourceSpaces: [<surface (lh), n_vertices=127307, n_used=4098>, <surface (rh), n_vertices=128801, n_used=4098>] MRI (surface RAS) coords, subject 'ap', ~26.7 MB>"
      ]
     },
     "execution_count": 37,
     "metadata": {},
     "output_type": "execute_result"
    }
   ],
   "source": [
    "mne.setup_source_space(subject, spacing=\"oct6\", subjects_dir=subjects_dir, n_jobs=-1)"
   ]
  },
  {
   "cell_type": "code",
   "execution_count": null,
   "metadata": {},
   "outputs": [],
   "source": []
  }
 ],
 "metadata": {
  "kernelspec": {
   "display_name": "Python 3.10.5 ('mne')",
   "language": "python",
   "name": "python3"
  },
  "language_info": {
   "codemirror_mode": {
    "name": "ipython",
    "version": 3
   },
   "file_extension": ".py",
   "mimetype": "text/x-python",
   "name": "python",
   "nbconvert_exporter": "python",
   "pygments_lexer": "ipython3",
   "version": "3.10.5"
  },
  "vscode": {
   "interpreter": {
    "hash": "c2cb02d829723eaaf3cf37d196c4d6c75a8cfc16de9c3a2392ec25bc684c670d"
   }
  }
 },
 "nbformat": 4,
 "nbformat_minor": 4
}
